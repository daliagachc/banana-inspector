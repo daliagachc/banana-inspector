{
 "cells": [
  {
   "cell_type": "code",
   "execution_count": 1,
   "metadata": {
    "collapsed": true
   },
   "outputs": [],
   "source": [
    "import banana_inspector\n",
    "import banana_inspector.funs as fu\n",
    "# import useful_scit.p\n",
    "from useful_scit.imps2.defs import *"
   ]
  },
  {
   "cell_type": "code",
   "execution_count": 2,
   "outputs": [],
   "source": [
    "file_path = '/Volumes/Transcend/diego_tr/nais-processor/test/data_out/NAISp20180615np.sum'"
   ],
   "metadata": {
    "collapsed": false,
    "pycharm": {
     "name": "#%%\n"
    }
   }
  },
  {
   "cell_type": "code",
   "execution_count": 3,
   "outputs": [],
   "source": [
    "ds = fu.open_darray(file_path)"
   ],
   "metadata": {
    "collapsed": false,
    "pycharm": {
     "name": "#%%\n"
    }
   }
  },
  {
   "cell_type": "code",
   "execution_count": 4,
   "outputs": [
    {
     "name": "stdout",
     "output_type": "stream",
     "text": [
      "5\n"
     ]
    }
   ],
   "source": [
    "ds\n",
    "\n",
    "print(5)"
   ],
   "metadata": {
    "collapsed": false,
    "pycharm": {
     "name": "#%%\n"
    }
   }
  },
  {
   "cell_type": "code",
   "execution_count": 5,
   "outputs": [],
   "source": [
    "print(3)"
   ],
   "metadata": {
    "collapsed": false,
    "pycharm": {
     "name": "#%%\n"
    }
   }
  },
  {
   "cell_type": "code",
   "execution_count": null,
   "outputs": [],
   "source": [
    "ds1 = fu.open_sum(file_path)"
   ],
   "metadata": {
    "collapsed": false,
    "pycharm": {
     "name": "#%%\n"
    }
   }
  },
  {
   "cell_type": "code",
   "execution_count": 6,
   "outputs": [
    {
     "data": {
      "text/plain": "<xarray.Dataset>\nDimensions:     (Dp: 29, time: 411)\nCoordinates:\n  * Dp          (Dp) float64 7.499e-10 8.66e-10 1e-09 ... 3.652e-08 4.217e-08\n  * time        (time) datetime64[ns] 2018-06-15T00:02:04.999995904 ... 2018-...\nData variables:\n    dndlDp      (Dp, time) float64 1.36e+03 2.265e+03 1.306e+04 ... nan nan nan\n    conc        (time) float64 796.7 901.1 3.554e+03 ... 7.561e+03 1.857e+03\n    log_Dp_dis  (Dp) float64 0.0625 0.0625 0.0625 ... 0.0625 0.0625 0.0625",
      "text/html": "<div><svg style=\"position: absolute; width: 0; height: 0; overflow: hidden\">\n<defs>\n<symbol id=\"icon-database\" viewBox=\"0 0 32 32\">\n<path d=\"M16 0c-8.837 0-16 2.239-16 5v4c0 2.761 7.163 5 16 5s16-2.239 16-5v-4c0-2.761-7.163-5-16-5z\"></path>\n<path d=\"M16 17c-8.837 0-16-2.239-16-5v6c0 2.761 7.163 5 16 5s16-2.239 16-5v-6c0 2.761-7.163 5-16 5z\"></path>\n<path d=\"M16 26c-8.837 0-16-2.239-16-5v6c0 2.761 7.163 5 16 5s16-2.239 16-5v-6c0 2.761-7.163 5-16 5z\"></path>\n</symbol>\n<symbol id=\"icon-file-text2\" viewBox=\"0 0 32 32\">\n<path d=\"M28.681 7.159c-0.694-0.947-1.662-2.053-2.724-3.116s-2.169-2.030-3.116-2.724c-1.612-1.182-2.393-1.319-2.841-1.319h-15.5c-1.378 0-2.5 1.121-2.5 2.5v27c0 1.378 1.122 2.5 2.5 2.5h23c1.378 0 2.5-1.122 2.5-2.5v-19.5c0-0.448-0.137-1.23-1.319-2.841zM24.543 5.457c0.959 0.959 1.712 1.825 2.268 2.543h-4.811v-4.811c0.718 0.556 1.584 1.309 2.543 2.268zM28 29.5c0 0.271-0.229 0.5-0.5 0.5h-23c-0.271 0-0.5-0.229-0.5-0.5v-27c0-0.271 0.229-0.5 0.5-0.5 0 0 15.499-0 15.5 0v7c0 0.552 0.448 1 1 1h7v19.5z\"></path>\n<path d=\"M23 26h-14c-0.552 0-1-0.448-1-1s0.448-1 1-1h14c0.552 0 1 0.448 1 1s-0.448 1-1 1z\"></path>\n<path d=\"M23 22h-14c-0.552 0-1-0.448-1-1s0.448-1 1-1h14c0.552 0 1 0.448 1 1s-0.448 1-1 1z\"></path>\n<path d=\"M23 18h-14c-0.552 0-1-0.448-1-1s0.448-1 1-1h14c0.552 0 1 0.448 1 1s-0.448 1-1 1z\"></path>\n</symbol>\n</defs>\n</svg>\n<style>/* CSS stylesheet for displaying xarray objects in jupyterlab.\n *\n */\n\n:root {\n  --xr-font-color0: var(--jp-content-font-color0, rgba(0, 0, 0, 1));\n  --xr-font-color2: var(--jp-content-font-color2, rgba(0, 0, 0, 0.54));\n  --xr-font-color3: var(--jp-content-font-color3, rgba(0, 0, 0, 0.38));\n  --xr-border-color: var(--jp-border-color2, #e0e0e0);\n  --xr-disabled-color: var(--jp-layout-color3, #bdbdbd);\n  --xr-background-color: var(--jp-layout-color0, white);\n  --xr-background-color-row-even: var(--jp-layout-color1, white);\n  --xr-background-color-row-odd: var(--jp-layout-color2, #eeeeee);\n}\n\nhtml[theme=dark],\nbody.vscode-dark {\n  --xr-font-color0: rgba(255, 255, 255, 1);\n  --xr-font-color2: rgba(255, 255, 255, 0.54);\n  --xr-font-color3: rgba(255, 255, 255, 0.38);\n  --xr-border-color: #1F1F1F;\n  --xr-disabled-color: #515151;\n  --xr-background-color: #111111;\n  --xr-background-color-row-even: #111111;\n  --xr-background-color-row-odd: #313131;\n}\n\n.xr-wrap {\n  display: block;\n  min-width: 300px;\n  max-width: 700px;\n}\n\n.xr-text-repr-fallback {\n  /* fallback to plain text repr when CSS is not injected (untrusted notebook) */\n  display: none;\n}\n\n.xr-header {\n  padding-top: 6px;\n  padding-bottom: 6px;\n  margin-bottom: 4px;\n  border-bottom: solid 1px var(--xr-border-color);\n}\n\n.xr-header > div,\n.xr-header > ul {\n  display: inline;\n  margin-top: 0;\n  margin-bottom: 0;\n}\n\n.xr-obj-type,\n.xr-array-name {\n  margin-left: 2px;\n  margin-right: 10px;\n}\n\n.xr-obj-type {\n  color: var(--xr-font-color2);\n}\n\n.xr-sections {\n  padding-left: 0 !important;\n  display: grid;\n  grid-template-columns: 150px auto auto 1fr 20px 20px;\n}\n\n.xr-section-item {\n  display: contents;\n}\n\n.xr-section-item input {\n  display: none;\n}\n\n.xr-section-item input + label {\n  color: var(--xr-disabled-color);\n}\n\n.xr-section-item input:enabled + label {\n  cursor: pointer;\n  color: var(--xr-font-color2);\n}\n\n.xr-section-item input:enabled + label:hover {\n  color: var(--xr-font-color0);\n}\n\n.xr-section-summary {\n  grid-column: 1;\n  color: var(--xr-font-color2);\n  font-weight: 500;\n}\n\n.xr-section-summary > span {\n  display: inline-block;\n  padding-left: 0.5em;\n}\n\n.xr-section-summary-in:disabled + label {\n  color: var(--xr-font-color2);\n}\n\n.xr-section-summary-in + label:before {\n  display: inline-block;\n  content: '►';\n  font-size: 11px;\n  width: 15px;\n  text-align: center;\n}\n\n.xr-section-summary-in:disabled + label:before {\n  color: var(--xr-disabled-color);\n}\n\n.xr-section-summary-in:checked + label:before {\n  content: '▼';\n}\n\n.xr-section-summary-in:checked + label > span {\n  display: none;\n}\n\n.xr-section-summary,\n.xr-section-inline-details {\n  padding-top: 4px;\n  padding-bottom: 4px;\n}\n\n.xr-section-inline-details {\n  grid-column: 2 / -1;\n}\n\n.xr-section-details {\n  display: none;\n  grid-column: 1 / -1;\n  margin-bottom: 5px;\n}\n\n.xr-section-summary-in:checked ~ .xr-section-details {\n  display: contents;\n}\n\n.xr-array-wrap {\n  grid-column: 1 / -1;\n  display: grid;\n  grid-template-columns: 20px auto;\n}\n\n.xr-array-wrap > label {\n  grid-column: 1;\n  vertical-align: top;\n}\n\n.xr-preview {\n  color: var(--xr-font-color3);\n}\n\n.xr-array-preview,\n.xr-array-data {\n  padding: 0 5px !important;\n  grid-column: 2;\n}\n\n.xr-array-data,\n.xr-array-in:checked ~ .xr-array-preview {\n  display: none;\n}\n\n.xr-array-in:checked ~ .xr-array-data,\n.xr-array-preview {\n  display: inline-block;\n}\n\n.xr-dim-list {\n  display: inline-block !important;\n  list-style: none;\n  padding: 0 !important;\n  margin: 0;\n}\n\n.xr-dim-list li {\n  display: inline-block;\n  padding: 0;\n  margin: 0;\n}\n\n.xr-dim-list:before {\n  content: '(';\n}\n\n.xr-dim-list:after {\n  content: ')';\n}\n\n.xr-dim-list li:not(:last-child):after {\n  content: ',';\n  padding-right: 5px;\n}\n\n.xr-has-index {\n  font-weight: bold;\n}\n\n.xr-var-list,\n.xr-var-item {\n  display: contents;\n}\n\n.xr-var-item > div,\n.xr-var-item label,\n.xr-var-item > .xr-var-name span {\n  background-color: var(--xr-background-color-row-even);\n  margin-bottom: 0;\n}\n\n.xr-var-item > .xr-var-name:hover span {\n  padding-right: 5px;\n}\n\n.xr-var-list > li:nth-child(odd) > div,\n.xr-var-list > li:nth-child(odd) > label,\n.xr-var-list > li:nth-child(odd) > .xr-var-name span {\n  background-color: var(--xr-background-color-row-odd);\n}\n\n.xr-var-name {\n  grid-column: 1;\n}\n\n.xr-var-dims {\n  grid-column: 2;\n}\n\n.xr-var-dtype {\n  grid-column: 3;\n  text-align: right;\n  color: var(--xr-font-color2);\n}\n\n.xr-var-preview {\n  grid-column: 4;\n}\n\n.xr-var-name,\n.xr-var-dims,\n.xr-var-dtype,\n.xr-preview,\n.xr-attrs dt {\n  white-space: nowrap;\n  overflow: hidden;\n  text-overflow: ellipsis;\n  padding-right: 10px;\n}\n\n.xr-var-name:hover,\n.xr-var-dims:hover,\n.xr-var-dtype:hover,\n.xr-attrs dt:hover {\n  overflow: visible;\n  width: auto;\n  z-index: 1;\n}\n\n.xr-var-attrs,\n.xr-var-data {\n  display: none;\n  background-color: var(--xr-background-color) !important;\n  padding-bottom: 5px !important;\n}\n\n.xr-var-attrs-in:checked ~ .xr-var-attrs,\n.xr-var-data-in:checked ~ .xr-var-data {\n  display: block;\n}\n\n.xr-var-data > table {\n  float: right;\n}\n\n.xr-var-name span,\n.xr-var-data,\n.xr-attrs {\n  padding-left: 25px !important;\n}\n\n.xr-attrs,\n.xr-var-attrs,\n.xr-var-data {\n  grid-column: 1 / -1;\n}\n\ndl.xr-attrs {\n  padding: 0;\n  margin: 0;\n  display: grid;\n  grid-template-columns: 125px auto;\n}\n\n.xr-attrs dt,\n.xr-attrs dd {\n  padding: 0;\n  margin: 0;\n  float: left;\n  padding-right: 10px;\n  width: auto;\n}\n\n.xr-attrs dt {\n  font-weight: normal;\n  grid-column: 1;\n}\n\n.xr-attrs dt:hover span {\n  display: inline-block;\n  background: var(--xr-background-color);\n  padding-right: 10px;\n}\n\n.xr-attrs dd {\n  grid-column: 2;\n  white-space: pre-wrap;\n  word-break: break-all;\n}\n\n.xr-icon-database,\n.xr-icon-file-text2 {\n  display: inline-block;\n  vertical-align: middle;\n  width: 1em;\n  height: 1.5em !important;\n  stroke-width: 0;\n  stroke: currentColor;\n  fill: currentColor;\n}\n</style><pre class='xr-text-repr-fallback'>&lt;xarray.Dataset&gt;\nDimensions:     (Dp: 29, time: 411)\nCoordinates:\n  * Dp          (Dp) float64 7.499e-10 8.66e-10 1e-09 ... 3.652e-08 4.217e-08\n  * time        (time) datetime64[ns] 2018-06-15T00:02:04.999995904 ... 2018-...\nData variables:\n    dndlDp      (Dp, time) float64 1.36e+03 2.265e+03 1.306e+04 ... nan nan nan\n    conc        (time) float64 796.7 901.1 3.554e+03 ... 7.561e+03 1.857e+03\n    log_Dp_dis  (Dp) float64 0.0625 0.0625 0.0625 ... 0.0625 0.0625 0.0625</pre><div class='xr-wrap' hidden><div class='xr-header'><div class='xr-obj-type'>xarray.Dataset</div></div><ul class='xr-sections'><li class='xr-section-item'><input id='section-670c3e41-8bdf-4b3f-95e7-11542b9482c8' class='xr-section-summary-in' type='checkbox' disabled ><label for='section-670c3e41-8bdf-4b3f-95e7-11542b9482c8' class='xr-section-summary'  title='Expand/collapse section'>Dimensions:</label><div class='xr-section-inline-details'><ul class='xr-dim-list'><li><span class='xr-has-index'>Dp</span>: 29</li><li><span class='xr-has-index'>time</span>: 411</li></ul></div><div class='xr-section-details'></div></li><li class='xr-section-item'><input id='section-037b1f36-4a0f-4fe4-8120-ff4596c63fc3' class='xr-section-summary-in' type='checkbox'  checked><label for='section-037b1f36-4a0f-4fe4-8120-ff4596c63fc3' class='xr-section-summary' >Coordinates: <span>(2)</span></label><div class='xr-section-inline-details'></div><div class='xr-section-details'><ul class='xr-var-list'><li class='xr-var-item'><div class='xr-var-name'><span class='xr-has-index'>Dp</span></div><div class='xr-var-dims'>(Dp)</div><div class='xr-var-dtype'>float64</div><div class='xr-var-preview xr-preview'>7.499e-10 8.66e-10 ... 4.217e-08</div><input id='attrs-f9c6c2d5-4111-4c94-a94e-9e665b60b1e2' class='xr-var-attrs-in' type='checkbox' disabled><label for='attrs-f9c6c2d5-4111-4c94-a94e-9e665b60b1e2' title='Show/Hide attributes'><svg class='icon xr-icon-file-text2'><use xlink:href='#icon-file-text2'></use></svg></label><input id='data-a4a01787-a386-4243-af21-46bc26195b28' class='xr-var-data-in' type='checkbox'><label for='data-a4a01787-a386-4243-af21-46bc26195b28' title='Show/Hide data repr'><svg class='icon xr-icon-database'><use xlink:href='#icon-database'></use></svg></label><div class='xr-var-attrs'><dl class='xr-attrs'></dl></div><div class='xr-var-data'><pre>array([7.498942e-10, 8.659643e-10, 1.000000e-09, 1.154782e-09, 1.333521e-09,\n       1.539927e-09, 1.778279e-09, 2.053525e-09, 2.371374e-09, 2.738420e-09,\n       3.162278e-09, 3.651741e-09, 4.216965e-09, 4.869675e-09, 5.623413e-09,\n       6.493816e-09, 7.498942e-09, 8.659643e-09, 1.000000e-08, 1.154782e-08,\n       1.333521e-08, 1.539927e-08, 1.778279e-08, 2.053525e-08, 2.371374e-08,\n       2.738420e-08, 3.162278e-08, 3.651741e-08, 4.216965e-08])</pre></div></li><li class='xr-var-item'><div class='xr-var-name'><span class='xr-has-index'>time</span></div><div class='xr-var-dims'>(time)</div><div class='xr-var-dtype'>datetime64[ns]</div><div class='xr-var-preview xr-preview'>2018-06-15T00:02:04.999995904 .....</div><input id='attrs-d3907a7d-8faa-48a5-ba6a-b8be5142c6a1' class='xr-var-attrs-in' type='checkbox' disabled><label for='attrs-d3907a7d-8faa-48a5-ba6a-b8be5142c6a1' title='Show/Hide attributes'><svg class='icon xr-icon-file-text2'><use xlink:href='#icon-file-text2'></use></svg></label><input id='data-25c4177f-052c-4c72-9543-f1a35ccf8855' class='xr-var-data-in' type='checkbox'><label for='data-25c4177f-052c-4c72-9543-f1a35ccf8855' title='Show/Hide data repr'><svg class='icon xr-icon-database'><use xlink:href='#icon-database'></use></svg></label><div class='xr-var-attrs'><dl class='xr-attrs'></dl></div><div class='xr-var-data'><pre>array([&#x27;2018-06-15T00:02:04.999995904&#x27;, &#x27;2018-06-15T00:05:38.999991808&#x27;,\n       &#x27;2018-06-15T00:09:05.000001024&#x27;, ..., &#x27;2018-06-15T23:50:04.999998464&#x27;,\n       &#x27;2018-06-15T23:53:39.999999232&#x27;, &#x27;2018-06-15T23:57:06.000008448&#x27;],\n      dtype=&#x27;datetime64[ns]&#x27;)</pre></div></li></ul></div></li><li class='xr-section-item'><input id='section-2c22ab14-fa80-4be4-8c86-1019a593950b' class='xr-section-summary-in' type='checkbox'  checked><label for='section-2c22ab14-fa80-4be4-8c86-1019a593950b' class='xr-section-summary' >Data variables: <span>(3)</span></label><div class='xr-section-inline-details'></div><div class='xr-section-details'><ul class='xr-var-list'><li class='xr-var-item'><div class='xr-var-name'><span>dndlDp</span></div><div class='xr-var-dims'>(Dp, time)</div><div class='xr-var-dtype'>float64</div><div class='xr-var-preview xr-preview'>1.36e+03 2.265e+03 ... nan nan</div><input id='attrs-c081065a-e3ff-4928-9ba8-f986c5d05fa4' class='xr-var-attrs-in' type='checkbox' disabled><label for='attrs-c081065a-e3ff-4928-9ba8-f986c5d05fa4' title='Show/Hide attributes'><svg class='icon xr-icon-file-text2'><use xlink:href='#icon-file-text2'></use></svg></label><input id='data-656988f7-50aa-4df1-b701-74831813070f' class='xr-var-data-in' type='checkbox'><label for='data-656988f7-50aa-4df1-b701-74831813070f' title='Show/Hide data repr'><svg class='icon xr-icon-database'><use xlink:href='#icon-database'></use></svg></label><div class='xr-var-attrs'><dl class='xr-attrs'></dl></div><div class='xr-var-data'><pre>array([[ 1360.46636721,  2264.73275931, 13057.3316719 , ...,\n         7794.8085437 , 58162.26331614,  8458.31599028],\n       [ 2565.81035984,  2570.81613877, 12919.40007101, ...,\n         6078.42686057, 42485.3270875 ,  7812.22660593],\n       [ 2954.54083428,  2086.55881091,  9253.84438683, ...,\n         2489.81290642, 12628.2366509 ,  4026.89682198],\n       ...,\n       [  163.65216353,   205.66510136,   230.56548563, ...,\n          275.76065409,   256.43123559,   267.12894185],\n       [  216.61671854,   198.761113  ,   193.38708415, ...,\n          467.33560951,   516.99237678,   484.03929938],\n       [           nan,            nan,            nan, ...,\n                   nan,            nan,            nan]])</pre></div></li><li class='xr-var-item'><div class='xr-var-name'><span>conc</span></div><div class='xr-var-dims'>(time)</div><div class='xr-var-dtype'>float64</div><div class='xr-var-preview xr-preview'>796.7 901.1 ... 7.561e+03 1.857e+03</div><input id='attrs-61e66b38-b967-4226-81b5-b67f0c55dbb2' class='xr-var-attrs-in' type='checkbox' disabled><label for='attrs-61e66b38-b967-4226-81b5-b67f0c55dbb2' title='Show/Hide attributes'><svg class='icon xr-icon-file-text2'><use xlink:href='#icon-file-text2'></use></svg></label><input id='data-38b9ef6b-66d6-4d39-84d5-25d11c9a2663' class='xr-var-data-in' type='checkbox'><label for='data-38b9ef6b-66d6-4d39-84d5-25d11c9a2663' title='Show/Hide data repr'><svg class='icon xr-icon-database'><use xlink:href='#icon-database'></use></svg></label><div class='xr-var-attrs'><dl class='xr-attrs'></dl></div><div class='xr-var-data'><pre>array([ 796.66065643,  901.10831195, 3554.32839449, 1344.68170623,\n        975.7470939 , 2975.72799216, 1917.312229  , 1217.66908717,\n       2709.7660635 , 1068.72956314,  812.07792929, 4842.62067575,\n       3381.82603774, 2112.96896082, 1177.69679661, 4851.83290582,\n       3290.65964272, 1071.50098658, 2285.99228956,  223.72042742,\n       1575.86253654,  238.25926991,  971.68534163,  798.22678478,\n        201.45653466,  373.80990848, 1169.84911061,  218.00795378,\n       2301.83054358, 5252.81029333, 1447.9418923 ,  334.15076137,\n       1983.39938732, 2250.1400421 , 2466.56894451, 2241.42364437,\n       2807.7564956 , 1373.48624607, 2612.00264992, 1994.65111403,\n       1728.31726449,  945.77461977, 1440.64371175, 2388.39902527,\n       1714.87815192, 4510.16735181, 4787.96986323, 1506.0805023 ,\n       3644.68498065, 1159.47112643, 1795.66163948, 1884.93366628,\n       1366.67853773, 4310.85106461, 2191.20011455,  949.7196431 ,\n       2760.30160877, 3446.76638147, 1886.30331759, 3117.42776734,\n        497.03208351, 1843.64955066,  440.28516119, 1013.1206673 ,\n       1088.56693531, 3342.39884112, 3235.66536088,  576.99343725,\n        728.6862561 , 3775.85833743,  802.12019861, 4332.0284276 ,\n       2016.56840628,  921.92529158, 2085.89020263, 1937.73230577,\n       2813.68917458, 2035.91388593, 2148.39418697, 3503.9165173 ,\n...\n       3215.343898  , 4050.12051232,  944.07657509, 3437.18349193,\n       1118.90823205, 1537.80346428, 1799.79939896, 1917.54056789,\n       1763.27806882, 2476.46593023, 5071.8082936 , 2404.44294898,\n       7346.34580416, 1814.24682521, 2535.58225142, 1347.56417137,\n       2516.97422319, 6220.97615636, 2720.90674625,  948.47854752,\n       2664.62000945, 1564.69610136, 1241.52525839, 4175.04057838,\n       1854.33157745, 4126.63407972, 1372.95882444, 2419.38597166,\n       1211.21052154,  945.66634259, 1364.25233338,  768.02615159,\n        857.00693   , 1547.60129469, 3268.91726063, 4249.09494435,\n       1618.3418751 , 5177.79949047, 4809.2733213 , 1014.37085485,\n       3949.12426667,  497.10611427, 2111.10099488, 1960.47132196,\n       4490.43960088,  640.79112331, 2428.84197217,  619.00534662,\n       5438.15740024,  827.7061525 , 3270.71572747, 7187.32345331,\n       6076.95794594, 1407.10061266, 1676.66092342, 2128.06774007,\n       2314.4610041 ,  888.78771253,  558.08587677, 1218.45580614,\n       2084.19972876, 5415.7384863 , 3556.2969687 , 9000.43228006,\n        824.88990157, 1644.14865776, 4512.81843915, 4496.02332786,\n       3612.76989544, 1987.8660451 ,  553.13291191,  427.31594616,\n       2919.09600474, 2775.44153477, 1658.77812125, 1092.26207641,\n       1602.24595072, 7560.97079154, 1856.92563107])</pre></div></li><li class='xr-var-item'><div class='xr-var-name'><span>log_Dp_dis</span></div><div class='xr-var-dims'>(Dp)</div><div class='xr-var-dtype'>float64</div><div class='xr-var-preview xr-preview'>0.0625 0.0625 ... 0.0625 0.0625</div><input id='attrs-641efc71-dfce-404c-ac65-bbabe80ce15c' class='xr-var-attrs-in' type='checkbox' disabled><label for='attrs-641efc71-dfce-404c-ac65-bbabe80ce15c' title='Show/Hide attributes'><svg class='icon xr-icon-file-text2'><use xlink:href='#icon-file-text2'></use></svg></label><input id='data-4a759a41-4e45-4610-9c20-c1ac0b54ae46' class='xr-var-data-in' type='checkbox'><label for='data-4a759a41-4e45-4610-9c20-c1ac0b54ae46' title='Show/Hide data repr'><svg class='icon xr-icon-database'><use xlink:href='#icon-database'></use></svg></label><div class='xr-var-attrs'><dl class='xr-attrs'></dl></div><div class='xr-var-data'><pre>array([0.0625, 0.0625, 0.0625, 0.0625, 0.0625, 0.0625, 0.0625, 0.0625,\n       0.0625, 0.0625, 0.0625, 0.0625, 0.0625, 0.0625, 0.0625, 0.0625,\n       0.0625, 0.0625, 0.0625, 0.0625, 0.0625, 0.0625, 0.0625, 0.0625,\n       0.0625, 0.0625, 0.0625, 0.0625, 0.0625])</pre></div></li></ul></div></li><li class='xr-section-item'><input id='section-226f52ec-6a85-4ffa-b9cf-0988349e028c' class='xr-section-summary-in' type='checkbox' disabled ><label for='section-226f52ec-6a85-4ffa-b9cf-0988349e028c' class='xr-section-summary'  title='Expand/collapse section'>Attributes: <span>(0)</span></label><div class='xr-section-inline-details'></div><div class='xr-section-details'><dl class='xr-attrs'></dl></div></li></ul></div></div>"
     },
     "execution_count": 6,
     "metadata": {},
     "output_type": "execute_result"
    }
   ],
   "source": [
    "ds1"
   ],
   "metadata": {
    "collapsed": false,
    "pycharm": {
     "name": "#%%\n"
    }
   }
  },
  {
   "cell_type": "code",
   "execution_count": 7,
   "outputs": [
    {
     "name": "stderr",
     "output_type": "stream",
     "text": [
      "<ipython-input-7-bbafe8d994b1>:2: MatplotlibDeprecationWarning: default base will change from np.e to 10 in 3.4.  To suppress this warning specify the base keyword argument.\n",
      "  norm=mpl.colors.SymLogNorm(20), cmap='cividis',\n"
     ]
    },
    {
     "data": {
      "text/plain": "<matplotlib.collections.QuadMesh at 0x1111118e0>"
     },
     "execution_count": 7,
     "metadata": {},
     "output_type": "execute_result"
    },
    {
     "data": {
      "text/plain": "<Figure size 432x288 with 2 Axes>",
      "image/png": "[encoded data removed]"
     },
     "metadata": {
      "needs_background": "light"
     },
     "output_type": "display_data"
    }
   ],
   "source": [
    "ds1['dndlDp'].plot(\n",
    "\t\tnorm=mpl.colors.SymLogNorm(20), cmap='cividis',\n",
    "\t\tvmin=0,\n",
    "\t\tvmax=1e4,\n",
    "\t\tyscale='log'\n",
    "\t\t)"
   ],
   "metadata": {
    "collapsed": false,
    "pycharm": {
     "name": "#%%\n"
    }
   }
  },
  {
   "cell_type": "code",
   "execution_count": 8,
   "outputs": [],
   "source": [
    "%gui qt5"
   ],
   "metadata": {
    "collapsed": false,
    "pycharm": {
     "name": "#%%\n"
    }
   }
  },
  {
   "cell_type": "code",
   "execution_count": 39,
   "outputs": [],
   "source": [
    "# -*- coding: utf-8 -*-\n",
    "\"\"\"\n",
    "Display a non-uniform image.\n",
    "This example displays 2-d data as an image with non-uniformly\n",
    "distributed sample points.\n",
    "\"\"\"\n",
    "\n",
    "# import initExample ## Add path to library (just for examples; you do not need this)\n",
    "\n",
    "from pyqtgraph.Qt import QtGui, QtCore\n",
    "import pyqtgraph as pg\n",
    "import numpy as np\n",
    "from pyqtgraph.graphicsItems.GradientEditorItem import Gradients\n",
    "from pyqtgraph.graphicsItems.NonUniformImage import NonUniformImage\n",
    "\n",
    "\n",
    "RPM2RADS = 2 * np.pi / 60\n",
    "RADS2RPM = 1 / RPM2RADS\n",
    "\n",
    "kfric  = 1       # [Ws/rad] angular damping coefficient [0;100]\n",
    "kfric3 = 1.5e-6  # [Ws3/rad3] angular damping coefficient (3rd order) [0;10-3]\n",
    "psi    = 0.2     # [Vs] flux linkage [0.001;10]\n",
    "res    = 5e-3    # [Ohm] resistance [0;100]\n",
    "v_ref  = 200     # [V] reference DC voltage [0;1000]\n",
    "k_v    = 5       # linear voltage coefficient [-100;100]\n",
    "\n",
    "# create the (non-uniform) scales\n",
    "tau = np.array([0, 10, 20, 30, 40, 50, 60, 70, 80, 90, 100, 120, 140, 160, 180, 200, 220], dtype=np.float32)\n",
    "w = np.array([0, 250, 500, 750, 1000, 1500, 2000, 3000, 4000, 5000, 6000, 7000, 8000, 9000, 10000], dtype=np.float32) * RPM2RADS\n",
    "v = 380\n",
    "\n",
    "# calculate the power losses\n",
    "TAU, W = np.meshgrid(tau, w, indexing='ij')\n",
    "V = np.ones_like(TAU) * v\n",
    "\n",
    "P_loss = kfric * W + kfric3 * W ** 3 + (res * (TAU / psi) ** 2) + k_v * (V - v_ref)\n",
    "\n",
    "P_mech = TAU * W\n",
    "P_loss[P_mech > 1.5e5] = np.NaN\n",
    "\n",
    "# green - orange - red\n",
    "Gradients['gor'] = {'ticks': [(0.0, (74, 158, 71)), (0.5, (255, 230, 0)), (1, (191, 79, 76))], 'mode': 'rgb'}\n",
    "\n",
    "app = pg.mkQApp(\"NonUniform Image Example\")\n",
    "\n",
    "win = QtGui.QMainWindow()\n",
    "cw = pg.GraphicsLayoutWidget()\n",
    "win.show()\n",
    "win.resize(600, 400)\n",
    "win.setCentralWidget(cw)\n",
    "win.setWindowTitle('pyqtgraph example: Non-uniform Image')\n",
    "\n",
    "p = cw.addPlot(title=\"Power Losses [W]\", row=0, col=0)\n",
    "p.setLogMode( x=None , y=True )\n",
    "lut = pg.HistogramLUTItem(orientation=\"horizontal\")\n",
    "\n",
    "# p.setMouseEnabled(x=False, y=False)\n",
    "\n",
    "cw.nextRow()\n",
    "cw.addItem(lut)\n",
    "\n",
    "# load the gradient\n",
    "lut.gradient.loadPreset('gor')\n",
    "\n",
    "image = NonUniformImage(w * RADS2RPM, np.log10(tau+10), P_loss.T)\n",
    "image.setLookupTable(lut, autoLevel=True)\n",
    "image.setZValue(-1)\n",
    "p.addItem(image)\n",
    "\n",
    "h = image.getHistogram()\n",
    "lut.plot.setData(*h)\n",
    "\n",
    "p.showGrid(x=True, y=True)\n",
    "\n",
    "p.setLabel(axis='bottom', text='Speed [rpm]')\n",
    "p.setLabel(axis='left', text='Torque [Nm]')\n",
    "\n",
    "# elevate the grid lines\n",
    "p.axes['bottom']['item'].setZValue(1000)\n",
    "p.axes['left']['item'].setZValue(1000)\n"
   ],
   "metadata": {
    "collapsed": false,
    "pycharm": {
     "name": "#%%\n"
    }
   }
  },
  {
   "cell_type": "code",
   "execution_count": 40,
   "outputs": [
    {
     "ename": "ModuleNotFoundError",
     "evalue": "No module named 'banana_inspector.docks.BananaPlot'",
     "output_type": "error",
     "traceback": [
      "\u001B[0;31m---------------------------------------------------------------------------\u001B[0m",
      "\u001B[0;31mModuleNotFoundError\u001B[0m                       Traceback (most recent call last)",
      "\u001B[0;32m<ipython-input-40-b027e43f7046>\u001B[0m in \u001B[0;36m<module>\u001B[0;34m\u001B[0m\n\u001B[0;32m----> 1\u001B[0;31m \u001B[0;32mimport\u001B[0m \u001B[0mbanana_inspector\u001B[0m\u001B[0;34m.\u001B[0m\u001B[0mdocks\u001B[0m\u001B[0;34m.\u001B[0m\u001B[0mBananaPlot\u001B[0m \u001B[0;32mas\u001B[0m \u001B[0mbnnp\u001B[0m\u001B[0;34m\u001B[0m\u001B[0;34m\u001B[0m\u001B[0m\n\u001B[0m",
      "\u001B[0;31mModuleNotFoundError\u001B[0m: No module named 'banana_inspector.docks.BananaPlot'"
     ]
    }
   ],
   "source": [
    "import banana_inspector.docks.BananaPlot as bnnp"
   ],
   "metadata": {
    "collapsed": false,
    "pycharm": {
     "name": "#%%\n"
    }
   }
  },
  {
   "cell_type": "code",
   "execution_count": null,
   "outputs": [],
   "source": [
    "\n",
    "app = pg.mkQApp(\"NonUniform Image Example\")\n",
    "\n",
    "win = QtGui.QMainWindow()\n",
    "win.show()\n",
    "win.resize(600, 400)\n",
    "bp = bnnp.BananaPlot(win)\n",
    "win.setCentralWidget(bp)\n",
    "bp.plot_example()"
   ],
   "metadata": {
    "collapsed": false,
    "pycharm": {
     "name": "#%%\n"
    }
   }
  },
  {
   "cell_type": "code",
   "execution_count": null,
   "outputs": [],
   "source": [
    "cw = bp.centralWidget\n"
   ],
   "metadata": {
    "collapsed": false,
    "pycharm": {
     "name": "#%%\n"
    }
   }
  },
  {
   "cell_type": "code",
   "execution_count": null,
   "outputs": [],
   "source": [
    "hi = list(cw.items.keys())[0]"
   ],
   "metadata": {
    "collapsed": false,
    "pycharm": {
     "name": "#%%\n"
    }
   }
  },
  {
   "cell_type": "code",
   "execution_count": null,
   "outputs": [],
   "source": [
    "hi.axis.setLogMode(True)"
   ],
   "metadata": {
    "collapsed": false,
    "pycharm": {
     "name": "#%%\n"
    }
   }
  },
  {
   "cell_type": "code",
   "execution_count": null,
   "outputs": [],
   "source": [
    "ds1\n"
   ],
   "metadata": {
    "collapsed": false,
    "pycharm": {
     "name": "#%%\n"
    }
   }
  },
  {
   "cell_type": "code",
   "execution_count": null,
   "outputs": [],
   "source": [
    "\n",
    "from pyqtgraph.canvas import Canvas"
   ],
   "metadata": {
    "collapsed": false,
    "pycharm": {
     "name": "#%%\n"
    }
   }
  },
  {
   "cell_type": "code",
   "execution_count": null,
   "outputs": [],
   "source": [
    "app = pg.mkQApp(\"NonUniform Image Example\")\n",
    "\n",
    "win = QtGui.QMainWindow()\n",
    "win.show()\n",
    "win.resize(600, 400)\n",
    "bp = Canvas()\n",
    "win.setCentralWidget(bp)\n",
    "# bp.plot_example()"
   ],
   "metadata": {
    "collapsed": false,
    "pycharm": {
     "name": "#%%\n"
    }
   }
  },
  {
   "cell_type": "code",
   "execution_count": 8,
   "outputs": [],
   "source": [
    "# -*- coding: utf-8 -*-\n",
    "\"\"\"\n",
    "Demonstrates some customized mouse interaction by drawing a crosshair that follows\n",
    "the mouse.\n",
    "\n",
    "\n",
    "\"\"\"\n",
    "\n",
    "# import initExample ## Add path to library (just for examples; you do not need this)\n",
    "import numpy as np\n",
    "import pyqtgraph as pg\n",
    "from pyqtgraph.Qt import QtGui, QtCore\n",
    "from pyqtgraph.Point import Point\n",
    "\n",
    "#generate layout\n",
    "app = pg.mkQApp(\"Crosshair Example\")\n",
    "win = pg.GraphicsLayoutWidget(show=True)\n",
    "win.setWindowTitle('pyqtgraph example: crosshair')\n",
    "label = pg.LabelItem(justify='right')\n",
    "win.addItem(label)\n",
    "p1 = win.addPlot(row=1, col=0)\n",
    "# p2 = win.addPlot(row=2, col=0)\n",
    "\n",
    "region = pg.LinearRegionItem()\n",
    "region.setZValue(10)\n",
    "# Add the LinearRegionItem to the ViewBox, but tell the ViewBox to exclude this\n",
    "# item when doing auto-range calculations.\n",
    "# p2.addItem(region, ignoreBounds=True)\n",
    "\n",
    "#pg.dbg()\n",
    "p1.setAutoVisible(y=True)\n",
    "\n",
    "\n",
    "#create numpy arrays\n",
    "#make the numbers large to show that the range shows data from 10000 to all the way 0\n",
    "data1 = 10000 + 15000 * pg.gaussianFilter(np.random.random(size=10000), 10) + 3000 * np.random.random(size=10000)\n",
    "data2 = 15000 + 15000 * pg.gaussianFilter(np.random.random(size=10000), 10) + 3000 * np.random.random(size=10000)\n",
    "\n",
    "# p1.plot(data1, pen=\"r\")\n",
    "# p1.plot(data2, pen=\"g\")\n",
    "\n",
    "# p2d = p2.plot(data1, pen=\"w\")\n",
    "# bound the LinearRegionItem to the plotted data\n",
    "# region.setClipItem(p2d)\n",
    "\n",
    "def update():\n",
    "    region.setZValue(10)\n",
    "    minX, maxX = region.getRegion()\n",
    "    p1.setXRange(minX, maxX, padding=0)\n",
    "\n",
    "region.sigRegionChanged.connect(update)\n",
    "\n",
    "def updateRegion(window, viewRange):\n",
    "    rgn = viewRange[0]\n",
    "    region.setRegion(rgn)\n",
    "\n",
    "p1.sigRangeChanged.connect(updateRegion)\n",
    "\n",
    "region.setRegion([1000, 2000])\n",
    "\n",
    "#cross hair\n",
    "vLine = pg.InfiniteLine(angle=90, movable=False)\n",
    "hLine = pg.InfiniteLine(angle=0, movable=False)\n",
    "p1.addItem(vLine, ignoreBounds=True)\n",
    "p1.addItem(hLine, ignoreBounds=True)\n",
    "\n",
    "\n",
    "vb = p1.vb\n",
    "\n",
    "def mouseMoved(evt):\n",
    "\n",
    "    pos = evt[0]  ## using signal proxy turns original arguments into a tuple\n",
    "    if p1.sceneBoundingRect().contains(pos):\n",
    "        mousePoint = vb.mapSceneToView(pos)\n",
    "        index = int(mousePoint.x())\n",
    "        if index > 0 and index < len(data1):\n",
    "            label.setText(\"<span style='font-size: 12pt'>x=%0.1f,   <span style='color: red'>y1=%0.1f</span>,   <span style='color: green'>y2=%0.1f</span>\" % (mousePoint.x(), mousePoint.y(), data2[index]))\n",
    "        vLine.setPos(mousePoint.x())\n",
    "        hLine.setPos(mousePoint.y())\n",
    "\n",
    "\n",
    "\n",
    "# proxy = pg.SignalProxy(p1.scene().sigMouseMoved, rateLimit=60, slot=mouseMoved)\n",
    "#p1.scene().sigMouseMoved.connect(mouseMoved)\n",
    "\n",
    "proxy = pg.SignalProxy(p1.scene().sigMouseClicked, slot=mouseMoved)"
   ],
   "metadata": {
    "collapsed": false,
    "pycharm": {
     "name": "#%%\n"
    }
   }
  },
  {
   "cell_type": "code",
   "execution_count": 43,
   "outputs": [],
   "source": [
    "pp = p1.scene()"
   ],
   "metadata": {
    "collapsed": false,
    "pycharm": {
     "name": "#%%\n"
    }
   }
  },
  {
   "cell_type": "code",
   "execution_count": 9,
   "outputs": [
    {
     "ename": "NameError",
     "evalue": "name 'pp' is not defined",
     "output_type": "error",
     "traceback": [
      "\u001B[0;31m---------------------------------------------------------------------------\u001B[0m",
      "\u001B[0;31mNameError\u001B[0m                                 Traceback (most recent call last)",
      "\u001B[0;32m<ipython-input-9-46c5b27b47ef>\u001B[0m in \u001B[0;36m<module>\u001B[0;34m\u001B[0m\n\u001B[0;32m----> 1\u001B[0;31m \u001B[0mpp\u001B[0m\u001B[0;34m.\u001B[0m\u001B[0msigMouseClicked\u001B[0m\u001B[0;34m(\u001B[0m\u001B[0;34m)\u001B[0m\u001B[0;34m\u001B[0m\u001B[0;34m\u001B[0m\u001B[0m\n\u001B[0m\u001B[1;32m      2\u001B[0m \u001B[0;34m\u001B[0m\u001B[0m\n",
      "\u001B[0;31mNameError\u001B[0m: name 'pp' is not defined"
     ]
    }
   ],
   "source": [
    "pp.sigMouseClicked()\n"
   ],
   "metadata": {
    "collapsed": false,
    "pycharm": {
     "name": "#%%\n"
    }
   }
  },
  {
   "cell_type": "code",
   "execution_count": 9,
   "outputs": [],
   "source": [
    "import sys\n",
    "from PyQt5 import QtCore, QtGui, QtWidgets\n",
    "import pyqtgraph as pg\n",
    "from pyqtgraph.dockarea import *\n",
    "\n",
    "# I use Qt Designer, below I just cut generated code to minimum\n",
    "class Ui_StartForm(object):\n",
    "    def setupUi(self, StartForm):\n",
    "        StartForm.setObjectName(\"StartForm\")\n",
    "        StartForm.resize(1507, 968)\n",
    "        self.GraphLayout = QtWidgets.QGridLayout(StartForm)\n",
    "\n",
    "\n",
    "class MyPlotWidget(pg.PlotWidget):\n",
    "\n",
    "    def __init__(self, **kwargs):\n",
    "        super().__init__(**kwargs)\n",
    "\n",
    "        # self.scene() is a pyqtgraph.GraphicsScene.GraphicsScene.GraphicsScene\n",
    "        self.scene().sigMouseClicked.connect(self.mouse_clicked)\n",
    "\n",
    "\n",
    "    def mouse_clicked(self, mouseClickEvent):\n",
    "        # mouseClickEvent is a pyqtgraph.GraphicsScene.mouseEvents.MouseClickEvent\n",
    "        print('clicked plot 0x{:x}, event: {}'.format(id(self), mouseClickEvent))\n",
    "\n",
    "\n",
    "\n",
    "# my application\n",
    "class AppWindow(QtWidgets.QWidget, Ui_StartForm):\n",
    "    def __init__(self):\n",
    "        super(AppWindow, self).__init__()\n",
    "        self.setupUi(self)\n",
    "\n",
    "        self.dock_area_main = DockArea()\n",
    "        self.GraphLayout.addWidget(self.dock_area_main)\n",
    "\n",
    "        # Best to use lower case for variables and upper case for types, so I\n",
    "        # renamed self.Dock1 to self.dock1.\n",
    "\n",
    "        self.dock1 = Dock(\"Dock 1\", size=(1, 1))\n",
    "        self.dock_area_main.addDock(self.dock1, 'left')\n",
    "\n",
    "        self.dock2 = Dock(\"Dock 2\", size=(1, 1))\n",
    "        self.dock_area_main.addDock(self.dock2, 'right')\n",
    "\n",
    "        self.GraphViewList = []\n",
    "\n",
    "        self.pl1 = MyPlotWidget()\n",
    "        self.pl2 = MyPlotWidget()\n",
    "\n",
    "        self.dock1.addWidget(self.pl1)\n",
    "        self.dock2.addWidget(self.pl2)\n",
    "\n",
    "\n",
    "\n",
    "app = QtWidgets.QApplication(sys.argv)\n",
    "w = AppWindow()\n",
    "w.show()"
   ],
   "metadata": {
    "collapsed": false,
    "pycharm": {
     "name": "#%%\n"
    }
   }
  },
  {
   "cell_type": "code",
   "execution_count": 8,
   "outputs": [
    {
     "name": "stdout",
     "output_type": "stream",
     "text": [
      "hola\n"
     ]
    }
   ],
   "source": [
    "\n",
    "import banana_inspector.tests.test_find_peel as ppp\n",
    "ppp.pp()"
   ],
   "metadata": {
    "collapsed": false,
    "pycharm": {
     "name": "#%%\n"
    }
   }
  },
  {
   "cell_type": "code",
   "execution_count": null,
   "outputs": [],
   "source": [],
   "metadata": {
    "collapsed": false,
    "pycharm": {
     "name": "#%%\n"
    }
   }
  }
 ],
 "metadata": {
  "kernelspec": {
   "name": "python3",
   "language": "python",
   "display_name": "Python 3 (ipykernel)"
  },
  "language_info": {
   "codemirror_mode": {
    "name": "ipython",
    "version": 2
   },
   "file_extension": ".py",
   "mimetype": "text/x-python",
   "name": "python",
   "nbconvert_exporter": "python",
   "pygments_lexer": "ipython2",
   "version": "2.7.6"
  }
 },
 "nbformat": 4,
 "nbformat_minor": 0
}