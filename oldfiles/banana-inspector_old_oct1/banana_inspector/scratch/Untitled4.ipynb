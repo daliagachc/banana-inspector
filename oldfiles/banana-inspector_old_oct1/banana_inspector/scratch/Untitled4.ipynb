{
 "cells": [
  {
   "cell_type": "code",
   "execution_count": 1,
   "id": "24624a0d-cf52-48cd-bf4f-761f89085ffb",
   "metadata": {},
   "outputs": [],
   "source": [
    "%gui qt6"
   ]
  },
  {
   "cell_type": "code",
   "execution_count": 2,
   "id": "884facc3-d61b-40a7-a45e-c5095b5cf4b9",
   "metadata": {},
   "outputs": [
    {
     "name": "stdout",
     "output_type": "stream",
     "text": [
      "from useful_scit.imps2.defs import (\n",
      "    pd, np, xr, za, mpl, sns, os, glob, \n",
      "    dt, sys, crt, Path, pprint, ucp, log, pjoin, plt\n",
      ")\n",
      "from useful_scit.imps2.defs import *\n"
     ]
    }
   ],
   "source": [
    "import useful_scit.p"
   ]
  },
  {
   "cell_type": "code",
   "execution_count": 3,
   "id": "2c1a2fc0-3609-45ef-be6a-5565bcd96648",
   "metadata": {},
   "outputs": [],
   "source": [
    "from useful_scit.imps2.defs import *"
   ]
  },
  {
   "cell_type": "code",
   "execution_count": 4,
   "id": "fa60cc0b-89fe-40f9-b047-a1067d006103",
   "metadata": {},
   "outputs": [],
   "source": [
    "import pyqtgraph as pq"
   ]
  },
  {
   "cell_type": "code",
   "execution_count": 11,
   "id": "cbbfb59e-885d-48ef-aa1b-cbdaa1d81503",
   "metadata": {},
   "outputs": [],
   "source": [
    "gl = pq.GraphicsLayoutWidget()"
   ]
  },
  {
   "cell_type": "code",
   "execution_count": 12,
   "id": "ae8afd76-2ad8-4a56-8d06-295b1417e6cb",
   "metadata": {},
   "outputs": [],
   "source": [
    "gl.show()"
   ]
  },
  {
   "cell_type": "code",
   "execution_count": 13,
   "id": "132daa2e-cd12-47ee-a9fb-6cff4d7bc4e4",
   "metadata": {},
   "outputs": [],
   "source": [
    "p00 = pq.PlotItem()"
   ]
  },
  {
   "cell_type": "code",
   "execution_count": 15,
   "id": "88c5b2d5-7f99-4f90-8a71-e034a1cf2d6d",
   "metadata": {},
   "outputs": [],
   "source": [
    "gl.addItem(p00,1,1)\n",
    "gl.show()"
   ]
  },
  {
   "cell_type": "code",
   "execution_count": 18,
   "id": "b9366ec9-b05e-4ae3-99ea-f77c9f9b8a60",
   "metadata": {},
   "outputs": [
    {
     "data": {
      "text/plain": [
       "PyQt6.QtCore.QByteArray(b'\\x01\\xd9\\xd0\\xcb\\x00\\x03\\x00\\x00\\x00\\x00\\x02\\x08\\x00\\x00\\x01\\x0e\\x00\\x00\\x04\\x87\\x00\\x00\\x03\\t\\x00\\x00\\x02\\x08\\x00\\x00\\x01*\\x00\\x00\\x04\\x87\\x00\\x00\\x03\\t\\x00\\x00\\x00\\x00\\x00\\x00\\x00\\x00\\x06\\x90\\x00\\x00\\x02\\x08\\x00\\x00\\x01*\\x00\\x00\\x04\\x87\\x00\\x00\\x03\\t')"
      ]
     },
     "execution_count": 18,
     "metadata": {},
     "output_type": "execute_result"
    }
   ],
   "source": [
    "gl.\n"
   ]
  },
  {
   "cell_type": "code",
   "execution_count": null,
   "id": "2293d009-c357-403e-8ecc-abef687cc97c",
   "metadata": {},
   "outputs": [],
   "source": []
  }
 ],
 "metadata": {
  "kernelspec": {
   "display_name": "Python 3 (ipykernel)",
   "language": "python",
   "name": "python3"
  },
  "language_info": {
   "codemirror_mode": {
    "name": "ipython",
    "version": 3
   },
   "file_extension": ".py",
   "mimetype": "text/x-python",
   "name": "python",
   "nbconvert_exporter": "python",
   "pygments_lexer": "ipython3",
   "version": "3.9.7"
  }
 },
 "nbformat": 4,
 "nbformat_minor": 5
}
