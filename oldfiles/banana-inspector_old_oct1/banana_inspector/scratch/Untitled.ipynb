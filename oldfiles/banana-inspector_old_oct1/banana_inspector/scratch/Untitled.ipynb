{
 "cells": [
  {
   "cell_type": "code",
   "execution_count": 3,
   "id": "a311bfad-721c-4e32-8aea-e05f3b150b62",
   "metadata": {},
   "outputs": [
    {
     "data": {
      "text/plain": [
       "2"
      ]
     },
     "execution_count": 3,
     "metadata": {},
     "output_type": "execute_result"
    }
   ],
   "source": [
    "2"
   ]
  },
  {
   "cell_type": "code",
   "execution_count": 1,
   "id": "57110546-1472-4ca0-8cff-6c511e7fa2f8",
   "metadata": {},
   "outputs": [],
   "source": [
    "%gui qt6"
   ]
  },
  {
   "cell_type": "code",
   "execution_count": 2,
   "id": "4dd93c98-9f82-4fe5-9e2f-d2aa1d2e5f90",
   "metadata": {},
   "outputs": [],
   "source": [
    "import pyqtgraph as pg"
   ]
  },
  {
   "cell_type": "code",
   "execution_count": 3,
   "id": "2c14319c-f6bf-49ac-be05-4d0ce80a3809",
   "metadata": {},
   "outputs": [
    {
     "data": {
      "text/plain": [
       "<pyqtgraph.widgets.PlotWidget.PlotWidget at 0x10809aa60>"
      ]
     },
     "execution_count": 3,
     "metadata": {},
     "output_type": "execute_result"
    }
   ],
   "source": [
    "pg.plot([1,2])"
   ]
  },
  {
   "cell_type": "code",
   "execution_count": 4,
   "id": "53689898-3b45-4779-a3ec-e938f9ffe180",
   "metadata": {},
   "outputs": [],
   "source": [
    "from pyqtgraph import QtGui"
   ]
  },
  {
   "cell_type": "code",
   "execution_count": 5,
   "id": "3154fb88-e983-4676-ae90-b661d5244825",
   "metadata": {},
   "outputs": [],
   "source": [
    "class BLE(QtGui.QLineEdit):\n",
    "    def __init__(self, *args,**kargs): \n",
    "        QtGui.QLineEdit.__init__(self,*args,**kargs)\n",
    "        \n",
    "#         self.of = of\n",
    "        \n",
    "    def dir_sel(self):\n",
    "        of = pg.FileDialog()\n",
    "        b = QtGui.QPushButton()\n",
    "        b.setText('select dir')\n",
    "        sel_dir = of.getExistingDirectory()\n",
    "        self.setText(sel_dir)\n",
    "        \n",
    "        "
   ]
  },
  {
   "cell_type": "code",
   "execution_count": null,
   "id": "e836714e-b836-40dd-9db6-c7e8e7e954d8",
   "metadata": {},
   "outputs": [],
   "source": []
  },
  {
   "cell_type": "code",
   "execution_count": 6,
   "id": "9e52b158-2bc5-400a-bffd-da3e73982262",
   "metadata": {},
   "outputs": [
    {
     "data": {
      "text/plain": [
       "0"
      ]
     },
     "execution_count": 6,
     "metadata": {},
     "output_type": "execute_result"
    }
   ],
   "source": [
    "fd = pg.FileDialog()\n",
    "# fd = pg.QtGui.QFileDialog()\n",
    "fd.setOption(fd.Option(1))\n",
    "\n",
    "# fd.setFileMode(QtGui.QFileDialog.FileMode(3))\n",
    "\n",
    "fd.fileSelected.connect(lambda x: print(x))\n",
    "fd.filesSelected.connect(lambda x: print(x))\n",
    "fd.directoryEntered.connect(lambda y: print(y))\n",
    "\n",
    "# \n",
    "fd.exec()"
   ]
  },
  {
   "cell_type": "code",
   "execution_count": 7,
   "id": "fcb2c61b-c4b3-4f56-97df-9ba992b3ec6a",
   "metadata": {},
   "outputs": [],
   "source": [
    "fd.setOption(fd.Option(1))"
   ]
  },
  {
   "cell_type": "code",
   "execution_count": 8,
   "id": "d4cd7a43-cb5a-4118-8b24-528f4d59252e",
   "metadata": {},
   "outputs": [
    {
     "data": {
      "text/plain": [
       "<FileMode.ExistingFiles: 3>"
      ]
     },
     "execution_count": 8,
     "metadata": {},
     "output_type": "execute_result"
    }
   ],
   "source": [
    "QtGui.QFileDialog.FileMode(3)"
   ]
  },
  {
   "cell_type": "code",
   "execution_count": 9,
   "id": "485433a8-8db1-44af-af9e-7c9429c4b73b",
   "metadata": {},
   "outputs": [],
   "source": [
    "sig = BLE().editingFinished"
   ]
  },
  {
   "cell_type": "code",
   "execution_count": null,
   "id": "064c6036-6702-483f-9693-ee3f2535f795",
   "metadata": {},
   "outputs": [],
   "source": [
    "sig.emit()"
   ]
  },
  {
   "cell_type": "code",
   "execution_count": null,
   "id": "4033ebc4-ceef-4ca6-8c38-9d2eca13f586",
   "metadata": {},
   "outputs": [],
   "source": [
    "b = pg.QtGui.QPushButton()"
   ]
  },
  {
   "cell_type": "code",
   "execution_count": null,
   "id": "634d7a19-e3c9-46b9-a275-5cbf98860bcb",
   "metadata": {},
   "outputs": [],
   "source": [
    "b.clicked.connect()"
   ]
  },
  {
   "cell_type": "code",
   "execution_count": null,
   "id": "7b0e6513-f3e3-4da8-9434-2d2e5be79b7c",
   "metadata": {},
   "outputs": [],
   "source": [
    "lw = pg.LayoutWidget()\n",
    "# of = pg.FileDialog()\n",
    "b = QtGui.QPushButton()\n",
    "\n",
    "t = BLE()\n",
    "lw.addWidget(b)\n",
    "lw.addWidget(t)\n",
    "b.clicked.connect(t.dir_sel)\n",
    "lw.show()"
   ]
  },
  {
   "cell_type": "code",
   "execution_count": null,
   "id": "a066a1a9-2d81-4f85-8545-ed4e29af6f7a",
   "metadata": {},
   "outputs": [],
   "source": [
    "t.text()"
   ]
  },
  {
   "cell_type": "code",
   "execution_count": null,
   "id": "8f08f5d2-1c1d-4b57-9438-c100ce4f8b9f",
   "metadata": {},
   "outputs": [],
   "source": [
    "def generateUi( opts ):\n",
    "    \"\"\"Convenience function for generating common UI types\"\"\"\n",
    "    widget = QtGui.QWidget()\n",
    "    l = QtGui.QFormLayout()\n",
    "    l.setSpacing( 0 )\n",
    "    widget.setLayout( l )\n",
    "    ctrls = { }\n",
    "    row = 0\n",
    "    for opt in opts:\n",
    "        if len( opt ) == 2:\n",
    "            k , t = opt\n",
    "            o = { }\n",
    "        elif len( opt ) == 3:\n",
    "            k , t , o = opt\n",
    "        else:\n",
    "            raise Exception(\n",
    "                \"Widget specification must be (name, type) or (name, type, {opts})\" )\n",
    "        \n",
    "        ## clean out these options so they don't get sent to SpinBox\n",
    "        hidden = o.pop( 'hidden' , False )\n",
    "        tip = o.pop( 'tip' , None )\n",
    "        \n",
    "        if t == 'intSpin':\n",
    "            w = QtGui.QSpinBox()\n",
    "            if 'max' in o:\n",
    "                w.setMaximum( o[ 'max' ] )\n",
    "            if 'min' in o:\n",
    "                w.setMinimum( o[ 'min' ] )\n",
    "            if 'value' in o:\n",
    "                w.setValue( o[ 'value' ] )\n",
    "        elif t == 'doubleSpin':\n",
    "            w = QtGui.QDoubleSpinBox()\n",
    "            if 'max' in o:\n",
    "                w.setMaximum( o[ 'max' ] )\n",
    "            if 'min' in o:\n",
    "                w.setMinimum( o[ 'min' ] )\n",
    "            if 'value' in o:\n",
    "                w.setValue( o[ 'value' ] )\n",
    "        elif t == 'spin':\n",
    "            w = SpinBox()\n",
    "            w.setOpts( **o )\n",
    "        elif t == 'check':\n",
    "            w = QtGui.QCheckBox()\n",
    "            if 'checked' in o:\n",
    "                w.setChecked( o[ 'checked' ] )\n",
    "        elif t == 'combo':\n",
    "            w = QtGui.QComboBox()\n",
    "            for i in o[ 'values' ]:\n",
    "                w.addItem( i )\n",
    "        elif t == 'text':\n",
    "            w = QtGui.QLineEdit()\n",
    "            w.setText( o[ 'value' ] )\n",
    "\n",
    "        elif t == 'text_button':\n",
    "            # of = pg.FileDialog(None)\n",
    "            w = BLE(o['file_dialog'])\n",
    "            w.setText( o[ 'value' ] )\n",
    "            \n",
    "        # elif t == 'colormap':\n",
    "        # w = ColorMapper()\n",
    "        elif t == 'color':\n",
    "            w = ColorButton()\n",
    "\n",
    "        # elif t == 'button':\n",
    "        #     w = QtGui.QPushButton()\n",
    "        #     w.clicked.connect(o['function'])\n",
    "        else:\n",
    "            raise Exception( \"Unknown widget type '%s'\" % str( t ) )\n",
    "        \n",
    "        if tip is not None:\n",
    "            w.setToolTip( tip )\n",
    "        w.setObjectName( k )\n",
    "        if t == 'text_button':\n",
    "            # button = pg.QtGui.QPushButton()\n",
    "            button = o['button']\n",
    "            button.clicked.connect(w.dir_sel)\n",
    "            button.setText(k)\n",
    "            # w.button = button\n",
    "            l.addRow( o['button'] , w )\n",
    "        else:\n",
    "            l.addRow( k , w )\n",
    "        if hidden:\n",
    "            w.hide()\n",
    "            label = l.labelForField( w )\n",
    "            label.hide()\n",
    "        \n",
    "        ctrls[ k ] = w\n",
    "        w.rowNum = row\n",
    "        row += 1\n",
    "    group = WidgetGroup( widget )\n",
    "    return widget , group , ctrls"
   ]
  },
  {
   "cell_type": "code",
   "execution_count": null,
   "id": "08760d00-76d7-488e-a8de-6397339b2e49",
   "metadata": {},
   "outputs": [],
   "source": [
    "w = QtGui.QWidget()"
   ]
  },
  {
   "cell_type": "code",
   "execution_count": null,
   "id": "1422f999-b166-40e0-8ae1-f7faaf41e2be",
   "metadata": {},
   "outputs": [],
   "source": [
    "w.show()"
   ]
  },
  {
   "cell_type": "code",
   "execution_count": null,
   "id": "d9750376-a0d5-42da-aef5-818239a47c2a",
   "metadata": {},
   "outputs": [],
   "source": [
    "b.show()"
   ]
  },
  {
   "cell_type": "code",
   "execution_count": null,
   "id": "a023641b-f8d8-4f09-82a8-c9f597e48252",
   "metadata": {},
   "outputs": [],
   "source": []
  },
  {
   "cell_type": "code",
   "execution_count": null,
   "id": "26ab6666-5b46-4619-b37c-c1fedf329b09",
   "metadata": {},
   "outputs": [],
   "source": [
    "of.getExistingDirectory()"
   ]
  },
  {
   "cell_type": "code",
   "execution_count": null,
   "id": "da0c5985-be81-4979-a287-186119c639d2",
   "metadata": {},
   "outputs": [],
   "source": [
    "qd = of.directory()"
   ]
  },
  {
   "cell_type": "code",
   "execution_count": null,
   "id": "cf0e4fff-dd13-45bc-8124-19166991f380",
   "metadata": {},
   "outputs": [],
   "source": [
    "of.Option"
   ]
  },
  {
   "cell_type": "code",
   "execution_count": 25,
   "id": "f80bd47e-a8c0-4a87-930f-77eaf63ccb22",
   "metadata": {},
   "outputs": [],
   "source": [
    "import sys\n",
    "import numpy as np\n",
    "import pyqtgraph as pg\n",
    "%gui qt6"
   ]
  },
  {
   "cell_type": "code",
   "execution_count": 26,
   "id": "fd71fdbb-dfdc-4288-a02e-4e9d4522946c",
   "metadata": {},
   "outputs": [],
   "source": [
    "sys.path.insert(0,\n",
    "               '/Users/aliaga/py-packs/banana_inspector-parent/banana_inspector')"
   ]
  },
  {
   "cell_type": "code",
   "execution_count": 27,
   "id": "dfb7bcd3-f349-49cc-b4da-e6e41ac916f6",
   "metadata": {},
   "outputs": [],
   "source": [
    "import banana_inspector.nodes.BananaPlotNode as bnn\n",
    "\n",
    "import banana_inspector.nodes.BasicPeelNode as peel"
   ]
  },
  {
   "cell_type": "code",
   "execution_count": 77,
   "id": "7bf4725c-f6e4-4c2c-b17a-2822fa4529fe",
   "metadata": {
    "collapsed": true,
    "jupyter": {
     "outputs_hidden": true
    },
    "tags": []
   },
   "outputs": [
    {
     "name": "stderr",
     "output_type": "stream",
     "text": [
      "qt.pointer.dispatch: delivering touch release to same window QWindow(0x0) not QWidgetWindow(0x166b5bef0, name=\"BananaPlotClassWindow\")\n",
      "qt.pointer.dispatch: skipping QEventPoint(id=0 ts=0 pos=0,0 scn=669.229,520.343 gbl=669.229,520.343 Released ellipse=(1x1 ∡ 0) vel=0,0 press=-669.229,-520.343 last=-669.229,-520.343 Δ 669.229,520.343) : no target window\n",
      "qt.pointer.dispatch: skipping QEventPoint(id=1 ts=0 pos=0,0 scn=652.672,476.605 gbl=652.672,476.605 Released ellipse=(1x1 ∡ 0) vel=0,0 press=-652.672,-476.605 last=-652.672,-476.605 Δ 652.672,476.605) : no target window\n"
     ]
    },
    {
     "name": "stdout",
     "output_type": "stream",
     "text": [
      "c\n",
      "c\n",
      "[[1527257342.285658, -7.751461552914486]]\n",
      "c\n",
      "c\n",
      "[[1527257342.285658, -7.751461552914486], [1527253806.4376874, -8.036276560842662]]\n",
      "c\n",
      "c\n",
      "[[1527257342.285658, -7.751461552914486], [1527253806.4376874, -8.036276560842662], [1527252974.4734592, -8.382801487155277]]\n",
      "c\n",
      "c\n",
      "[[1527257342.285658, -7.751461552914486], [1527253806.4376874, -8.036276560842662], [1527252974.4734592, -8.382801487155277], [1527267117.8653407, -8.51571515752176]]\n",
      "c\n",
      "c\n",
      "[[1527257342.285658, -7.751461552914486], [1527253806.4376874, -8.036276560842662], [1527252974.4734592, -8.382801487155277], [1527267117.8653407, -8.51571515752176], [1527276685.4539664, -8.264128567185203]]\n",
      "c\n",
      "c\n",
      "[[1527257342.285658, -7.751461552914486], [1527253806.4376874, -8.036276560842662], [1527252974.4734592, -8.382801487155277], [1527267117.8653407, -8.51571515752176], [1527276685.4539664, -8.264128567185203], [1527278765.364537, -7.9033628904761795]]\n",
      "c\n",
      "c\n",
      "[[1527257342.285658, -7.751461552914486], [1527253806.4376874, -8.036276560842662], [1527252974.4734592, -8.382801487155277], [1527267117.8653407, -8.51571515752176], [1527276685.4539664, -8.264128567185203], [1527278765.364537, -7.9033628904761795], [1527285005.0962496, -7.58057254815758]]\n",
      "c\n",
      "c\n",
      "[[1527257342.285658, -7.751461552914486], [1527253806.4376874, -8.036276560842662], [1527252974.4734592, -8.382801487155277], [1527267117.8653407, -8.51571515752176], [1527276685.4539664, -8.264128567185203], [1527278765.364537, -7.9033628904761795], [1527285005.0962496, -7.58057254815758], [1527284797.1051924, -7.2862637066317975]]\n",
      "c\n",
      "c\n",
      "[[1527257342.285658, -7.751461552914486], [1527253806.4376874, -8.036276560842662], [1527252974.4734592, -8.382801487155277], [1527267117.8653407, -8.51571515752176], [1527276685.4539664, -8.264128567185203], [1527278765.364537, -7.9033628904761795], [1527285005.0962496, -7.58057254815758], [1527284797.1051924, -7.2862637066317975], [1527268365.8116832, -7.333732874619827]]\n",
      "c\n",
      "c\n",
      "c\n",
      "[[1527257342.285658, -7.751461552914486], [1527253806.4376874, -8.036276560842662], [1527252974.4734592, -8.382801487155277], [1527260046.1694002, -8.444511405539716], [1527267117.8653407, -8.51571515752176], [1527276685.4539664, -8.264128567185203], [1527278765.364537, -7.9033628904761795], [1527285005.0962496, -7.58057254815758], [1527284797.1051924, -7.2862637066317975], [1527268365.8116832, -7.333732874619827], [1527254846.392973, -8.605906576699015]]\n"
     ]
    }
   ],
   "source": [
    "bb = bnn.BananaPlot(None)\n",
    "bb.plot_example()\n",
    "\n",
    "bb.show()\n",
    "p1 = bb.plot_item\n",
    "r = p1.viewRange()\n",
    "x = np.mean(r[0])\n",
    "y = np.mean(r[1])\n",
    "\n",
    "peel_roi = peel.BnnPeelROI(pos=[x, y])\n",
    "p1.addItem(peel_roi)\n",
    "\n",
    "\n",
    "def mouseClicked(evt):\n",
    "    print('c')\n",
    "    mc = evt[\n",
    "        0]  ## using signal proxy turns original arguments into\n",
    "    # a tuple\n",
    "    if not mc.double():\n",
    "        return\n",
    "\n",
    "    pos = mc.scenePos()\n",
    "    viewPoint = p1.vb.mapSceneToView(pos)\n",
    "    peel_roi.add_point(viewPoint)\n",
    "    qps = peel_roi.get_roi_pol_coords()\n",
    "    pts = [[q.x(),q.y()] for q in qps]\n",
    "    st = str(pts)\n",
    "    print(st)\n",
    "\n",
    "proxy2 = pg.SignalProxy(p1.scene().sigMouseClicked,\n",
    "                        rateLimit=60, slot=mouseClicked)\n",
    "data_out = peel_roi.get_roi_pol_coords()\n",
    "\n",
    "\n",
    "bb.show()"
   ]
  },
  {
   "cell_type": "code",
   "execution_count": 81,
   "id": "49662860-5851-4385-a7f5-a78b626539a6",
   "metadata": {},
   "outputs": [],
   "source": [
    "pts = peel_roi.get_roi_pol_coords()"
   ]
  },
  {
   "cell_type": "code",
   "execution_count": 98,
   "id": "a046d0dd-f512-40b2-9343-0b67c6c9fbde",
   "metadata": {},
   "outputs": [
    {
     "data": {
      "text/plain": [
       "'[1527257342.285658\\t,-7.751461552914486\\t],\\n[1527253806.4376874\\t,-8.036276560842662\\t],\\n[1527252974.4734592\\t,-8.382801487155277\\t],\\n[1527260046.1694002\\t,-8.444511405539716\\t],\\n[1527267117.8653407\\t,-8.51571515752176\\t],\\n[1527276685.4539664\\t,-8.264128567185203\\t],\\n[1527278765.364537\\t,-7.9033628904761795\\t],\\n[1527285005.0962496\\t,-7.58057254815758\\t],\\n[1527284797.1051924\\t,-7.2862637066317975\\t],\\n[1527268365.8116832\\t,-7.333732874619827\\t],\\n[1527261502.1067996\\t,-7.466646544986309\\t],\\n'"
      ]
     },
     "execution_count": 98,
     "metadata": {},
     "output_type": "execute_result"
    }
   ],
   "source": []
  },
  {
   "cell_type": "code",
   "execution_count": 115,
   "id": "403174f3-9b10-47dc-ad26-c7d96f960303",
   "metadata": {},
   "outputs": [
    {
     "name": "stdout",
     "output_type": "stream",
     "text": [
      "[\n",
      "[1527257342.2857\t,-7.7515\t],\n",
      "[1527253806.4377\t,-8.0363\t],\n",
      "[1527252974.4735\t,-8.3828\t],\n",
      "[1527260046.1694\t,-8.4445\t],\n",
      "[1527267117.8653\t,-8.5157\t],\n",
      "[1527276685.4540\t,-8.2641\t],\n",
      "[1527278765.3645\t,-7.9034\t],\n",
      "[1527285005.0962\t,-7.5806\t],\n",
      "[1527284797.1052\t,-7.2863\t],\n",
      "[1527268365.8117\t,-7.3337\t],\n",
      "[1527261502.1068\t,-7.4666\t],\n",
      "]\n"
     ]
    }
   ],
   "source": [
    "sts = [f'[{p.x():.4f}\\t,{p.y():.4f}\\t],\\n' for p in pts]\n",
    "st = ''.join(sts)\n",
    "s1 = f'[\\n{st}]'\n",
    "print(s1)"
   ]
  },
  {
   "cell_type": "code",
   "execution_count": 116,
   "id": "b0a565bc-bff0-4329-b106-6cb7291eb9de",
   "metadata": {},
   "outputs": [
    {
     "data": {
      "text/plain": [
       "[[1527257342.2857, -7.7515],\n",
       " [1527253806.4377, -8.0363],\n",
       " [1527252974.4735, -8.3828],\n",
       " [1527260046.1694, -8.4445],\n",
       " [1527267117.8653, -8.5157],\n",
       " [1527276685.454, -8.2641],\n",
       " [1527278765.3645, -7.9034],\n",
       " [1527285005.0962, -7.5806],\n",
       " [1527284797.1052, -7.2863],\n",
       " [1527268365.8117, -7.3337],\n",
       " [1527261502.1068, -7.4666]]"
      ]
     },
     "execution_count": 116,
     "metadata": {},
     "output_type": "execute_result"
    }
   ],
   "source": [
    "eval(s1)"
   ]
  },
  {
   "cell_type": "code",
   "execution_count": 51,
   "id": "216c310f-b3d3-4265-b0ad-f130db4ab99a",
   "metadata": {},
   "outputs": [],
   "source": [
    "from pyqtgraph import  QtGui, QtCore\n"
   ]
  },
  {
   "cell_type": "code",
   "execution_count": 42,
   "id": "3941c87f-9da9-44df-9d09-dc36fe1820a2",
   "metadata": {},
   "outputs": [],
   "source": [
    "s = QtGui.QPlainTextEdit()"
   ]
  },
  {
   "cell_type": "code",
   "execution_count": 52,
   "id": "7fa676ed-81e8-4dde-a595-5e2f7c8b79af",
   "metadata": {},
   "outputs": [],
   "source": [
    "class TextEdit(QtGui.QTextEdit):\n",
    "    \"\"\"\n",
    "    A TextEdit editor that sends editingFinished events \n",
    "    when the text was changed and focus is lost.\n",
    "    \"\"\"\n",
    "\n",
    "    editingFinished = QtCore.pyqtSignal()\n",
    "    receivedFocus = QtCore.pyqtSignal()\n",
    "    \n",
    "    def __init__(self, parent):\n",
    "        super(TextEdit, self).__init__(parent)\n",
    "        self._changed = False\n",
    "        self.setTabChangesFocus( True )\n",
    "        self.textChanged.connect( self._handle_text_changed )\n",
    "\n",
    "    def focusInEvent(self, event):\n",
    "        super(TextEdit, self).focusInEvent( event )\n",
    "        self.receivedFocus.emit()\n",
    "\n",
    "    def focusOutEvent(self, event):\n",
    "        if self._changed:\n",
    "            self.editingFinished.emit()\n",
    "        super(TextEdit, self).focusOutEvent( event )\n",
    "\n",
    "    def _handle_text_changed(self):\n",
    "        self._changed = True\n",
    "\n",
    "    def setTextChanged(self, state=True):\n",
    "        self._changed = state\n",
    "\n",
    "    def setHtml(self, html):\n",
    "        QtGui.QTextEdit.setHtml(self, html)\n",
    "        self._changed = False"
   ]
  },
  {
   "cell_type": "code",
   "execution_count": 54,
   "id": "a84f2379-c84f-4030-be8a-6936e19b7bf7",
   "metadata": {},
   "outputs": [],
   "source": [
    "te = TextEdit(None)"
   ]
  },
  {
   "cell_type": "code",
   "execution_count": 72,
   "id": "39f2f923-e840-4044-8bb6-302133ac6dd9",
   "metadata": {},
   "outputs": [],
   "source": [
    "te.show()"
   ]
  },
  {
   "cell_type": "code",
   "execution_count": 70,
   "id": "9cc35593-bad5-4343-b2e9-d7c46370771e",
   "metadata": {},
   "outputs": [],
   "source": [
    "te.setPlainText('[[]]')"
   ]
  },
  {
   "cell_type": "code",
   "execution_count": 74,
   "id": "063d35c9-a3a7-418d-875d-7441f0f6aa9d",
   "metadata": {},
   "outputs": [],
   "source": [
    "\n",
    "ss = te.toPlainText()"
   ]
  },
  {
   "cell_type": "code",
   "execution_count": 75,
   "id": "d555a78f-5a10-4436-af5b-597e514ea4f9",
   "metadata": {},
   "outputs": [
    {
     "data": {
      "text/plain": [
       "[[1, 0.2], [3, 4]]"
      ]
     },
     "execution_count": 75,
     "metadata": {},
     "output_type": "execute_result"
    }
   ],
   "source": [
    "eval(ss)"
   ]
  },
  {
   "cell_type": "code",
   "execution_count": 98,
   "id": "e374dc10-96de-4eee-a6ad-0b895d8695ce",
   "metadata": {},
   "outputs": [],
   "source": [
    "st = bb.plot_item.saveState()"
   ]
  },
  {
   "cell_type": "code",
   "execution_count": 101,
   "id": "3e2f73dc-fe4b-4393-93f2-14b81aa2bd6a",
   "metadata": {},
   "outputs": [],
   "source": [
    "bb.plot_item.restoreState(st)\n",
    "bb.show()"
   ]
  },
  {
   "cell_type": "code",
   "execution_count": 100,
   "id": "afe1ea00-4d8e-4a0b-b2fa-18a607538c68",
   "metadata": {},
   "outputs": [
    {
     "data": {
      "text/plain": [
       "{'logYCheck': True,\n",
       " 'logXCheck': False,\n",
       " 'fftCheck': False,\n",
       " 'derivativeCheck': False,\n",
       " 'phasemapCheck': False,\n",
       " 'clipToViewCheck': False,\n",
       " 'maxTracesCheck': False,\n",
       " 'downsampleCheck': False,\n",
       " 'peakRadio': True,\n",
       " 'maxTracesSpin': 0,\n",
       " 'forgetTracesCheck': False,\n",
       " 'meanRadio': False,\n",
       " 'subsampleRadio': False,\n",
       " 'autoDownsampleCheck': True,\n",
       " 'downsampleSpin': 1,\n",
       " 'averageGroup': False,\n",
       " 'alphaGroup': True,\n",
       " 'autoAlphaCheck': False,\n",
       " 'alphaSlider': 1000,\n",
       " 'xGridCheck': False,\n",
       " 'yGridCheck': False,\n",
       " 'gridAlphaSlider': 128,\n",
       " 'pointsGroup': True,\n",
       " 'autoPointsCheck': True,\n",
       " 'paramList': {},\n",
       " 'view': {'targetRange': [[1527202025.2838356, 1527296874.7161644],\n",
       "   [-9.052116755786491, -7.134362369070104]],\n",
       "  'viewRange': [[1527202025.2838356, 1527296874.7161644],\n",
       "   [-9.052116755786491, -7.134362369070104]],\n",
       "  'yInverted': False,\n",
       "  'xInverted': False,\n",
       "  'aspectLocked': False,\n",
       "  'autoRange': [1.0, 1.0],\n",
       "  'autoPan': [False, False],\n",
       "  'autoVisibleOnly': [False, False],\n",
       "  'linkedViews': [None, None],\n",
       "  'defaultPadding': 0.02,\n",
       "  'mouseEnabled': [True, True],\n",
       "  'mouseMode': 3,\n",
       "  'enableMenu': True,\n",
       "  'wheelScaleFactor': -0.125,\n",
       "  'background': None,\n",
       "  'limits': {'xLimits': [-62135596800.0, 253370764800.0],\n",
       "   'yLimits': [None, None],\n",
       "   'xRange': [None, None],\n",
       "   'yRange': [None, None]}}}"
      ]
     },
     "execution_count": 100,
     "metadata": {},
     "output_type": "execute_result"
    }
   ],
   "source": [
    "bb.plot_item."
   ]
  },
  {
   "cell_type": "code",
   "execution_count": null,
   "id": "45a7f043-05da-4b99-a41b-3d5567988e79",
   "metadata": {},
   "outputs": [],
   "source": []
  }
 ],
 "metadata": {
  "kernelspec": {
   "display_name": "Python 3 (ipykernel)",
   "language": "python",
   "name": "python3"
  },
  "language_info": {
   "codemirror_mode": {
    "name": "ipython",
    "version": 3
   },
   "file_extension": ".py",
   "mimetype": "text/x-python",
   "name": "python",
   "nbconvert_exporter": "python",
   "pygments_lexer": "ipython3",
   "version": "3.9.7"
  }
 },
 "nbformat": 4,
 "nbformat_minor": 5
}
