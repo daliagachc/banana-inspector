{
 "cells": [
  {
   "cell_type": "code",
   "execution_count": null,
   "id": "a311bfad-721c-4e32-8aea-e05f3b150b62",
   "metadata": {},
   "outputs": [],
   "source": [
    "2"
   ]
  },
  {
   "cell_type": "code",
   "execution_count": 5,
   "id": "57110546-1472-4ca0-8cff-6c511e7fa2f8",
   "metadata": {},
   "outputs": [],
   "source": [
    "%gui qt6"
   ]
  },
  {
   "cell_type": "code",
   "execution_count": 6,
   "id": "4dd93c98-9f82-4fe5-9e2f-d2aa1d2e5f90",
   "metadata": {},
   "outputs": [],
   "source": [
    "import pyqtgraph as pg"
   ]
  },
  {
   "cell_type": "code",
   "execution_count": 7,
   "id": "2c14319c-f6bf-49ac-be05-4d0ce80a3809",
   "metadata": {},
   "outputs": [
    {
     "data": {
      "text/plain": [
       "<pyqtgraph.widgets.PlotWidget.PlotWidget at 0x125b7f280>"
      ]
     },
     "execution_count": 7,
     "metadata": {},
     "output_type": "execute_result"
    }
   ],
   "source": [
    "pg.plot([1,2])"
   ]
  },
  {
   "cell_type": "code",
   "execution_count": null,
   "id": "64527d1c-60ed-4aba-8bdb-17a2bdb18f18",
   "metadata": {},
   "outputs": [
    {
     "name": "stderr",
     "output_type": "stream",
     "text": [
      "qt.pointer.dispatch: delivering touch release to same window QWindow(0x0) not QWidgetWindow(0x16532a8e0, name=\"PlotWidgetClassWindow\")\n",
      "qt.pointer.dispatch: skipping QEventPoint(id=1 ts=0 pos=0,0 scn=810.074,418.445 gbl=810.074,418.445 Released ellipse=(1x1 ∡ 0) vel=0,0 press=-810.074,-418.445 last=-810.074,-418.445 Δ 810.074,418.445) : no target window\n",
      "qt.pointer.dispatch: delivering touch release to same window QWindow(0x0) not QWidgetWindow(0x16532a8e0, name=\"PlotWidgetClassWindow\")\n",
      "qt.pointer.dispatch: skipping QEventPoint(id=1 ts=0 pos=0,0 scn=562.066,287.195 gbl=562.066,287.195 Released ellipse=(1x1 ∡ 0) vel=0,0 press=-562.066,-287.195 last=-562.066,-287.195 Δ 562.066,287.195) : no target window\n",
      "qt.pointer.dispatch: delivering touch release to same window QWindow(0x0) not QWidgetWindow(0x16532a8e0, name=\"PlotWidgetClassWindow\")\n",
      "qt.pointer.dispatch: skipping QEventPoint(id=1 ts=0 pos=0,0 scn=557.191,268.869 gbl=557.191,268.869 Released ellipse=(1x1 ∡ 0) vel=0,0 press=-557.191,-268.869 last=-557.191,-268.869 Δ 557.191,268.869) : no target window\n"
     ]
    }
   ],
   "source": [
    "pg.mkQApp().exec()"
   ]
  },
  {
   "cell_type": "code",
   "execution_count": 9,
   "id": "555b0554-d57d-45ad-8675-33ba3e1ae382",
   "metadata": {},
   "outputs": [
    {
     "ename": "ModuleNotFoundError",
     "evalue": "No module named 'banana_inspector'",
     "output_type": "error",
     "traceback": [
      "\u001b[0;31m---------------------------------------------------------------------------\u001b[0m",
      "\u001b[0;31mModuleNotFoundError\u001b[0m                       Traceback (most recent call last)",
      "\u001b[0;32m/var/folders/xl/wx70j1c50bsdzdy63_wpbhrxpglmw2/T/ipykernel_52687/3350425830.py\u001b[0m in \u001b[0;36m<module>\u001b[0;34m\u001b[0m\n\u001b[1;32m      8\u001b[0m \u001b[0;31m# from banana_inspector.docks.BananaPlot import BananaPlotNode\u001b[0m\u001b[0;34m\u001b[0m\u001b[0;34m\u001b[0m\u001b[0m\n\u001b[1;32m      9\u001b[0m \u001b[0;31m# from banana_inspector.docks.OpenFileNode import OpenFileNode\u001b[0m\u001b[0;34m\u001b[0m\u001b[0;34m\u001b[0m\u001b[0m\n\u001b[0;32m---> 10\u001b[0;31m \u001b[0;32mfrom\u001b[0m \u001b[0mbanana_inspector\u001b[0m \u001b[0;32mimport\u001b[0m \u001b[0mshared_data\u001b[0m\u001b[0;34m\u001b[0m\u001b[0;34m\u001b[0m\u001b[0m\n\u001b[0m\u001b[1;32m     11\u001b[0m \u001b[0;32mfrom\u001b[0m \u001b[0mbanana_inspector\u001b[0m \u001b[0;32mimport\u001b[0m \u001b[0mpyqtgraph_bnn_extensions\u001b[0m \u001b[0;32mas\u001b[0m \u001b[0mexts\u001b[0m\u001b[0;34m\u001b[0m\u001b[0;34m\u001b[0m\u001b[0m\n\u001b[1;32m     12\u001b[0m \u001b[0;34m\u001b[0m\u001b[0m\n",
      "\u001b[0;31mModuleNotFoundError\u001b[0m: No module named 'banana_inspector'"
     ]
    }
   ],
   "source": [
    "\n",
    "from pyqtgraph.flowchart import Flowchart\n",
    "from pyqtgraph.Qt import QtGui, QtCore\n",
    "import pyqtgraph as pg\n",
    "import pyqtgraph.dockarea\n",
    "import numpy as np\n",
    "import pyqtgraph.metaarray as metaarray\n",
    "import PyQt6.QtWidgets\n",
    "# from banana_inspector.docks.BananaPlot import BananaPlotNode\n",
    "# from banana_inspector.docks.OpenFileNode import OpenFileNode\n",
    "from banana_inspector import shared_data\n",
    "from banana_inspector import pyqtgraph_bnn_extensions as exts\n",
    "\n",
    "exts.register_nodes()\n",
    "\n",
    "TITLE = \"The Banana Inspector\"\n",
    "app = pg.mkQApp(TITLE)\n",
    "\n",
    "## Create main window with grid layout\n",
    "# win:PyQt5.QtWidgets.QMainWindow = QtGui.QMainWindow()\n",
    "win: PyQt6.QtWidgets.QMainWindow = PyQt6.QtWidgets.QMainWindow()\n",
    "win.setWindowTitle(TITLE)\n",
    "win.setBaseSize(1600, 800)\n",
    "# cw:PyQt5.QtWidgets.QWidget = QtGui.QWidget()\n",
    "# cw:PyQt5.QtWidgets.QWidget = PyQt5.QtWidgets.QWidget()\n",
    "\n",
    "dock_area = pyqtgraph.dockarea.DockArea()\n",
    "shared_data.dock_area = dock_area\n",
    "'''set the dock_area as fully global in the shared_data singleton'''\n",
    "\n",
    "flow_chart_dock = pyqtgraph.dockarea.Dock(\n",
    "    closable=True,\n",
    "    size=(100, 1000),\n",
    "    name='flowchart control'\n",
    ")\n",
    "\n",
    "win.setCentralWidget(dock_area)\n",
    "# layout:PyQt5.QtWidgets.QGridLayout = PyQt5.QtWidgets.QGridLayout()\n",
    "# cw.setLayout(layout)\n",
    "\n",
    "\n",
    "## Create flowchart, define input/output terminals\n",
    "fc = Flowchart(terminals={\n",
    "    'dataIn': {'io': 'in'},\n",
    "    'dataOut': {'io': 'out'}\n",
    "})\n",
    "\n",
    "## Add flowchart control panel to the main window\n",
    "flow_chart_dock.addWidget(fc.widget(), 0, 0, 2, 1)\n",
    "dock_area.addDock(flow_chart_dock)\n",
    "\n",
    "# %%\n",
    "\n",
    "\n",
    "# %%\n",
    "# fclib.registerNodeType(BananaPlotNode, [('Display',)])\n",
    "# fclib.registerNodeType(OpenFileNode, [('Display',)])\n",
    "# fclib.registerNodeType(UnsharpMaskNode, [('Image',)])\n",
    "\n",
    "\n",
    "## Add two plot widgets\n",
    "# pw1 = pg.PlotWidget()\n",
    "# pw2 = pg.PlotWidget()\n",
    "# layout.addWidget( pw1 , 0 , 1 )\n",
    "# layout.addWidget( pw2 , 1 , 1 )\n",
    "\n",
    "win.show()\n",
    "\n",
    "## generate signal data to pass through the flowchart\n",
    "data = np.random.normal(size=1000)\n",
    "data[200:300] += 1\n",
    "data += np.sin(np.linspace(0, 100, 1000))\n",
    "data = metaarray.MetaArray(data, info=[\n",
    "    {'name': 'Time', 'values': np.linspace(0, 1.0, len(data))},\n",
    "    {}])\n",
    "\n",
    "## Feed data into the input terminal of the flowchart\n",
    "fc.setInput(dataIn=data)\n",
    "\n",
    "## populate the flowchart with a basic set of processing nodes.\n",
    "## (usually we let the user do this)\n",
    "# plotList = { 'Top Plot': pw1 , 'Bottom Plot': pw2 }\n",
    "\n",
    "# pw1Node = fc.createNode( 'PlotWidget' , pos=(0 , -150) )\n",
    "# pw1Node.setPlotList( plotList )\n",
    "# pw1Node.setPlot( pw1 )\n",
    "\n",
    "# pw2Node = fc.createNode( 'PlotWidget' , pos=(150 , -150) )\n",
    "# pw2Node.setPlot( pw2 )\n",
    "# pw2Node.setPlotList( plotList )\n",
    "\n",
    "# fNode = fc.createNode( 'GaussianFilter' , pos=(0 , 0) )\n",
    "# bnnNode = fc.createNode( 'BananaPlotNode' , pos=(100 , 100) )\n",
    "# bnnNode = fc.createNode( 'OpenFileNode' , pos=(100 , 100) )\n",
    "\n",
    "\n",
    "# fNode.ctrls[ 'sigma' ].setValue( 5 )\n",
    "# fc.connectTerminals( fc[ 'dataIn' ] , fNode[ 'In' ] )\n",
    "# fc.connectTerminals( fc[ 'dataIn' ] , pw1Node[ 'In' ] )\n",
    "# fc.connectTerminals( fNode[ 'Out' ] , pw2Node[ 'In' ] )\n",
    "# fc.connectTerminals( fNode[ 'Out' ] , fc[ 'dataOut' ] )\n",
    "\n",
    "\n",
    "##### lets restore the status of the docks\n",
    "dock_area.restoreState(\n",
    "    {'main': ('horizontal',\n",
    "              [('dock', 'flowchart control', {}),\n",
    "               ('dock', 'BananaPlotNode.0', {})],\n",
    "              {'sizes': [242, 711]}),\n",
    "     'float': []},\n",
    "    missing='ignore'\n",
    ")\n",
    "\n",
    "if not INTERACTIVE:\n",
    "    app.exec_()\n",
    "\n"
   ]
  },
  {
   "cell_type": "code",
   "execution_count": null,
   "id": "53689898-3b45-4779-a3ec-e938f9ffe180",
   "metadata": {},
   "outputs": [],
   "source": []
  },
  {
   "cell_type": "code",
   "execution_count": null,
   "id": "2346c0d6-540d-4c3d-896b-9652a67d4c3f",
   "metadata": {},
   "outputs": [],
   "source": []
  }
 ],
 "metadata": {
  "kernelspec": {
   "display_name": "Python 3 (ipykernel)",
   "language": "python",
   "name": "python3"
  },
  "language_info": {
   "codemirror_mode": {
    "name": "ipython",
    "version": 3
   },
   "file_extension": ".py",
   "mimetype": "text/x-python",
   "name": "python",
   "nbconvert_exporter": "python",
   "pygments_lexer": "ipython3",
   "version": "3.9.7"
  }
 },
 "nbformat": 4,
 "nbformat_minor": 5
}
