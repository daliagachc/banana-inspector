{
 "cells": [
  {
   "cell_type": "code",
   "execution_count": 1,
   "metadata": {
    "execution": {
     "iopub.execute_input": "2021-06-18T10:22:33.487579Z",
     "iopub.status.busy": "2021-06-18T10:22:33.487241Z",
     "iopub.status.idle": "2021-06-18T10:22:33.513558Z",
     "shell.execute_reply": "2021-06-18T10:22:33.511933Z",
     "shell.execute_reply.started": "2021-06-18T10:22:33.487495Z"
    }
   },
   "outputs": [
    {
     "data": {
      "text/plain": [
       "'\\n6/16/21\\n\\ndiego.aliaga at helsinki dot fi\\n'"
      ]
     },
     "execution_count": 1,
     "metadata": {},
     "output_type": "execute_result"
    }
   ],
   "source": [
    "\"\"\"\n",
    "6/16/21\n",
    "\n",
    "diego.aliaga at helsinki dot fi\n",
    "\"\"\""
   ]
  },
  {
   "cell_type": "markdown",
   "metadata": {},
   "source": [
    "interactive import"
   ]
  },
  {
   "cell_type": "code",
   "execution_count": 2,
   "metadata": {
    "execution": {
     "iopub.execute_input": "2021-06-18T10:22:34.502920Z",
     "iopub.status.busy": "2021-06-18T10:22:34.502488Z",
     "iopub.status.idle": "2021-06-18T10:22:34.569111Z",
     "shell.execute_reply": "2021-06-18T10:22:34.566989Z",
     "shell.execute_reply.started": "2021-06-18T10:22:34.502875Z"
    }
   },
   "outputs": [],
   "source": [
    "from IPython import get_ipython\n",
    "_ipython = get_ipython()\n",
    "if _ipython is not None:\n",
    "    _magic = _ipython.magic\n",
    "    _magic( 'load_ext autoreload' )\n",
    "    _magic( 'autoreload 2' )"
   ]
  },
  {
   "cell_type": "code",
   "execution_count": 16,
   "metadata": {
    "execution": {
     "iopub.execute_input": "2021-06-18T10:25:37.832747Z",
     "iopub.status.busy": "2021-06-18T10:25:37.832353Z",
     "iopub.status.idle": "2021-06-18T10:25:38.043668Z",
     "shell.execute_reply": "2021-06-18T10:25:38.042668Z",
     "shell.execute_reply.started": "2021-06-18T10:25:37.832699Z"
    },
    "tags": []
   },
   "outputs": [],
   "source": [
    "from npf_analyzer3 import *\n",
    "import npf_analyzer3 as np3\n",
    "import os\n",
    "import xarray as xr\n",
    "import AppearanceModeFit as Amf"
   ]
  },
  {
   "cell_type": "code",
   "execution_count": 7,
   "metadata": {
    "execution": {
     "iopub.execute_input": "2021-06-18T10:24:21.286997Z",
     "iopub.status.busy": "2021-06-18T10:24:21.286631Z",
     "iopub.status.idle": "2021-06-18T10:24:21.400790Z",
     "shell.execute_reply": "2021-06-18T10:24:21.399572Z",
     "shell.execute_reply.started": "2021-06-18T10:24:21.286953Z"
    },
    "tags": []
   },
   "outputs": [
    {
     "data": {
      "text/plain": [
       "'/Users/diego/npf-analyzer3/npf_analyzer3.py'"
      ]
     },
     "execution_count": 7,
     "metadata": {},
     "output_type": "execute_result"
    }
   ],
   "source": []
  },
  {
   "cell_type": "code",
   "execution_count": 9,
   "metadata": {
    "execution": {
     "iopub.execute_input": "2021-06-18T10:24:47.315045Z",
     "iopub.status.busy": "2021-06-18T10:24:47.314592Z",
     "iopub.status.idle": "2021-06-18T10:24:47.425264Z",
     "shell.execute_reply": "2021-06-18T10:24:47.423308Z",
     "shell.execute_reply.started": "2021-06-18T10:24:47.314991Z"
    },
    "lines_to_next_cell": 1,
    "tags": []
   },
   "outputs": [],
   "source": [
    "try:\n",
    "    here_path = os.path.dirname(os.path.abspath(__file__))\n",
    "except NameError:\n",
    "    here_path = os.path.dirname(os.path.abspath(np3.__file__))"
   ]
  },
  {
   "cell_type": "code",
   "execution_count": 10,
   "metadata": {
    "execution": {
     "iopub.execute_input": "2021-06-18T10:24:49.195983Z",
     "iopub.status.busy": "2021-06-18T10:24:49.195622Z",
     "iopub.status.idle": "2021-06-18T10:24:49.272381Z",
     "shell.execute_reply": "2021-06-18T10:24:49.270079Z",
     "shell.execute_reply.started": "2021-06-18T10:24:49.195937Z"
    },
    "tags": []
   },
   "outputs": [],
   "source": [
    "def open_darray( pp ):\n",
    "    p = os.path.join( here_path , pp )\n",
    "    ip_darray = np3.fu.open_sum(p)\n",
    "    \n",
    "    ip_darray = np3.fu.get_treated_da(ip_darray)\n",
    "    \n",
    "    \n",
    "    da = np3.fu.set_secs_dim(ip_darray)\n",
    "    da['tempK'] = xr.zeros_like(da['secs']) + 273\n",
    "    da['presP'] = xr.zeros_like(da['secs']) + 532000\n",
    "    \n",
    "    return da"
   ]
  },
  {
   "cell_type": "code",
   "execution_count": 11,
   "metadata": {
    "execution": {
     "iopub.execute_input": "2021-06-18T10:24:50.125460Z",
     "iopub.status.busy": "2021-06-18T10:24:50.125169Z",
     "iopub.status.idle": "2021-06-18T10:24:50.355945Z",
     "shell.execute_reply": "2021-06-18T10:24:50.355077Z",
     "shell.execute_reply.started": "2021-06-18T10:24:50.125430Z"
    },
    "tags": []
   },
   "outputs": [],
   "source": [
    "p1 = 'example_data/lev2_NAISp20180525np.sum'\n",
    "da1 = open_darray(p1)"
   ]
  },
  {
   "cell_type": "code",
   "execution_count": 12,
   "metadata": {
    "execution": {
     "iopub.execute_input": "2021-06-18T10:24:50.992693Z",
     "iopub.status.busy": "2021-06-18T10:24:50.992322Z",
     "iopub.status.idle": "2021-06-18T10:24:51.281164Z",
     "shell.execute_reply": "2021-06-18T10:24:51.279816Z",
     "shell.execute_reply.started": "2021-06-18T10:24:50.992647Z"
    },
    "tags": []
   },
   "outputs": [],
   "source": [
    "p2 = 'example_data/lev2_NAISp20180527np.sum'\n",
    "da2 = open_darray(p2)"
   ]
  },
  {
   "cell_type": "code",
   "execution_count": 13,
   "metadata": {
    "execution": {
     "iopub.execute_input": "2021-06-18T10:25:00.353914Z",
     "iopub.status.busy": "2021-06-18T10:25:00.353633Z",
     "iopub.status.idle": "2021-06-18T10:25:00.421173Z",
     "shell.execute_reply": "2021-06-18T10:25:00.418745Z",
     "shell.execute_reply.started": "2021-06-18T10:25:00.353878Z"
    },
    "tags": []
   },
   "outputs": [],
   "source": [
    "root_path = '/tmp/npf'\n",
    "os.makedirs(root_path, exist_ok=True)"
   ]
  },
  {
   "cell_type": "code",
   "execution_count": null,
   "metadata": {},
   "outputs": [],
   "source": []
  },
  {
   "cell_type": "code",
   "execution_count": 14,
   "metadata": {
    "execution": {
     "iopub.execute_input": "2021-06-18T10:25:03.093368Z",
     "iopub.status.busy": "2021-06-18T10:25:03.093032Z",
     "iopub.status.idle": "2021-06-18T10:25:05.564692Z",
     "shell.execute_reply": "2021-06-18T10:25:05.563876Z",
     "shell.execute_reply.started": "2021-06-18T10:25:03.093283Z"
    }
   },
   "outputs": [],
   "source": [
    "self = np3.GuiNpf()\n",
    "self.set_ip_mode('particle')\n",
    "self.set_ip_data_array( da1 )"
   ]
  },
  {
   "cell_type": "code",
   "execution_count": 15,
   "metadata": {
    "execution": {
     "iopub.execute_input": "2021-06-18T10:25:13.040798Z",
     "iopub.status.busy": "2021-06-18T10:25:13.040370Z",
     "iopub.status.idle": "2021-06-18T10:25:13.085631Z",
     "shell.execute_reply": "2021-06-18T10:25:13.084385Z",
     "shell.execute_reply.started": "2021-06-18T10:25:13.040764Z"
    }
   },
   "outputs": [],
   "source": [
    "self.plot_ip_size_dist()\n",
    "self.set_project_path(root_path)"
   ]
  },
  {
   "cell_type": "code",
   "execution_count": 54,
   "metadata": {
    "execution": {
     "iopub.execute_input": "2021-06-18T10:51:27.970232Z",
     "iopub.status.busy": "2021-06-18T10:51:27.969897Z",
     "iopub.status.idle": "2021-06-18T10:51:28.213769Z",
     "shell.execute_reply": "2021-06-18T10:51:28.213013Z",
     "shell.execute_reply.started": "2021-06-18T10:51:27.970206Z"
    },
    "tags": []
   },
   "outputs": [
    {
     "name": "stderr",
     "output_type": "stream",
     "text": [
      "/Users/diego/miniconda3/envs/b37/lib/python3.8/site-packages/scipy/optimize/minpack.py:828: OptimizeWarning: Covariance of the parameters could not be estimated\n",
      "  warnings.warn('Covariance of the parameters could not be estimated',\n"
     ]
    }
   ],
   "source": [
    "sa = self.get_smooth_ip_data()\n",
    "pts = np3.get_roi_pol_coords(self.gui_ROI_a)\n",
    "sd = self.project_path_appearance\n",
    "amf = Amf.AppearanceModeFit(sa,pts,sd)"
   ]
  },
  {
   "cell_type": "code",
   "execution_count": 59,
   "metadata": {
    "execution": {
     "iopub.execute_input": "2021-06-18T10:54:23.676154Z",
     "iopub.status.busy": "2021-06-18T10:54:23.675880Z",
     "iopub.status.idle": "2021-06-18T10:54:23.728885Z",
     "shell.execute_reply": "2021-06-18T10:54:23.727635Z",
     "shell.execute_reply.started": "2021-06-18T10:54:23.676121Z"
    },
    "tags": []
   },
   "outputs": [
    {
     "ename": "NameError",
     "evalue": "name 'plt' is not defined",
     "output_type": "error",
     "traceback": [
      "\u001B[0;31m---------------------------------------------------------------------------\u001B[0m",
      "\u001B[0;31mNameError\u001B[0m                                 Traceback (most recent call last)",
      "\u001B[0;32m<ipython-input-59-564167a6ba16>\u001B[0m in \u001B[0;36m<module>\u001B[0;34m\u001B[0m\n\u001B[0;32m----> 1\u001B[0;31m \u001B[0mf\u001B[0m\u001B[0;34m,\u001B[0m\u001B[0max\u001B[0m \u001B[0;34m=\u001B[0m \u001B[0mplt\u001B[0m\u001B[0;34m.\u001B[0m\u001B[0msubplots\u001B[0m\u001B[0;34m(\u001B[0m\u001B[0;34m)\u001B[0m\u001B[0;34m\u001B[0m\u001B[0;34m\u001B[0m\u001B[0m\n\u001B[0m\u001B[1;32m      2\u001B[0m \u001B[0mdf\u001B[0m \u001B[0;34m=\u001B[0m \u001B[0mamf\u001B[0m\u001B[0;34m.\u001B[0m\u001B[0mdf\u001B[0m\u001B[0;34m\u001B[0m\u001B[0;34m\u001B[0m\u001B[0m\n\u001B[1;32m      3\u001B[0m \u001B[0mdf\u001B[0m\u001B[0;34m[\u001B[0m\u001B[0;34m'Dp'\u001B[0m\u001B[0;34m]\u001B[0m \u001B[0;34m=\u001B[0m \u001B[0;36m10\u001B[0m\u001B[0;34m**\u001B[0m\u001B[0mdf\u001B[0m\u001B[0;34m.\u001B[0m\u001B[0mindex\u001B[0m\u001B[0;34m\u001B[0m\u001B[0;34m\u001B[0m\u001B[0m\n\u001B[1;32m      4\u001B[0m \u001B[0mdf\u001B[0m\u001B[0;34m.\u001B[0m\u001B[0mplot\u001B[0m\u001B[0;34m(\u001B[0m\u001B[0mx\u001B[0m\u001B[0;34m=\u001B[0m\u001B[0;34m'x0'\u001B[0m\u001B[0;34m,\u001B[0m\u001B[0my\u001B[0m\u001B[0;34m=\u001B[0m\u001B[0;34m'Dp'\u001B[0m\u001B[0;34m,\u001B[0m \u001B[0max\u001B[0m \u001B[0;34m=\u001B[0m\u001B[0max\u001B[0m \u001B[0;34m)\u001B[0m\u001B[0;34m\u001B[0m\u001B[0;34m\u001B[0m\u001B[0m\n\u001B[1;32m      5\u001B[0m \u001B[0mdf\u001B[0m\u001B[0;34m.\u001B[0m\u001B[0mplot\u001B[0m\u001B[0;34m(\u001B[0m\u001B[0mx\u001B[0m\u001B[0;34m=\u001B[0m\u001B[0;34m'x0_'\u001B[0m\u001B[0;34m,\u001B[0m\u001B[0my\u001B[0m\u001B[0;34m=\u001B[0m\u001B[0;34m'Dp'\u001B[0m\u001B[0;34m,\u001B[0m\u001B[0mlw\u001B[0m\u001B[0;34m=\u001B[0m\u001B[0;36m0\u001B[0m\u001B[0;34m,\u001B[0m\u001B[0mmarker\u001B[0m\u001B[0;34m=\u001B[0m\u001B[0;34m'o'\u001B[0m\u001B[0;34m,\u001B[0m \u001B[0max\u001B[0m \u001B[0;34m=\u001B[0m\u001B[0max\u001B[0m \u001B[0;34m)\u001B[0m\u001B[0;34m\u001B[0m\u001B[0;34m\u001B[0m\u001B[0m\n",
      "\u001B[0;31mNameError\u001B[0m: name 'plt' is not defined"
     ]
    }
   ],
   "source": [
    "f,ax = plt.subplots()\n",
    "df = amf.df\n",
    "df['Dp'] = 10**df.index\n",
    "df.plot(x='x0',y='Dp', ax =ax )\n",
    "df.plot(x='x0_',y='Dp',lw=0,marker='o', ax =ax )"
   ]
  },
  {
   "cell_type": "code",
   "execution_count": 51,
   "metadata": {
    "execution": {
     "iopub.execute_input": "2021-06-18T10:50:29.716739Z",
     "iopub.status.busy": "2021-06-18T10:50:29.716284Z",
     "iopub.status.idle": "2021-06-18T10:50:29.838003Z",
     "shell.execute_reply": "2021-06-18T10:50:29.836390Z",
     "shell.execute_reply.started": "2021-06-18T10:50:29.716651Z"
    },
    "tags": []
   },
   "outputs": [
    {
     "ename": "TypeError",
     "evalue": "'Float64Index' object is not callable",
     "output_type": "error",
     "traceback": [
      "\u001B[0;31m---------------------------------------------------------------------------\u001B[0m",
      "\u001B[0;31mTypeError\u001B[0m                                 Traceback (most recent call last)",
      "\u001B[0;32m<ipython-input-51-79c83efb9910>\u001B[0m in \u001B[0;36m<module>\u001B[0;34m\u001B[0m\n\u001B[0;32m----> 1\u001B[0;31m \u001B[0mdf\u001B[0m\u001B[0;34m.\u001B[0m\u001B[0mindex\u001B[0m\u001B[0;34m(\u001B[0m\u001B[0;34m)\u001B[0m\u001B[0;34m\u001B[0m\u001B[0;34m\u001B[0m\u001B[0m\n\u001B[0m",
      "\u001B[0;31mTypeError\u001B[0m: 'Float64Index' object is not callable"
     ]
    }
   ],
   "source": [
    "df.index()"
   ]
  },
  {
   "cell_type": "code",
   "execution_count": 36,
   "metadata": {
    "execution": {
     "iopub.execute_input": "2021-06-18T10:35:46.521868Z",
     "iopub.status.busy": "2021-06-18T10:35:46.521498Z",
     "iopub.status.idle": "2021-06-18T10:35:46.804105Z",
     "shell.execute_reply": "2021-06-18T10:35:46.803037Z",
     "shell.execute_reply.started": "2021-06-18T10:35:46.521821Z"
    },
    "tags": []
   },
   "outputs": [
    {
     "data": {
      "text/plain": [
       "<matplotlib.collections.QuadMesh at 0x166b2f1c0>"
      ]
     },
     "execution_count": 36,
     "metadata": {},
     "output_type": "execute_result"
    },
    {
     "data": {
      "image/png": "[encoded data removed]",
      "text/plain": [
       "<Figure size 432x288 with 2 Axes>"
      ]
     },
     "metadata": {
      "needs_background": "light"
     },
     "output_type": "display_data"
    }
   ],
   "source": [
    "sa.plot()"
   ]
  },
  {
   "cell_type": "code",
   "execution_count": null,
   "metadata": {},
   "outputs": [],
   "source": []
  }
 ],
 "metadata": {
  "jupytext": {
   "cell_metadata_filter": "-all",
   "formats": "ipynb,py:percent",
   "main_language": "python"
  },
  "kernelspec": {
   "display_name": "b37",
   "language": "python",
   "name": "b37"
  },
  "language_info": {
   "codemirror_mode": {
    "name": "ipython",
    "version": 3
   },
   "file_extension": ".py",
   "mimetype": "text/x-python",
   "name": "python",
   "nbconvert_exporter": "python",
   "pygments_lexer": "ipython3",
   "version": "3.8.8"
  }
 },
 "nbformat": 4,
 "nbformat_minor": 4
}