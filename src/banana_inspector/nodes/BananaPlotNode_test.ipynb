{
 "cells": [
  {
   "cell_type": "code",
   "execution_count": 1,
   "metadata": {},
   "outputs": [],
   "source": [
    "from useful_scit.imps2.defs import *"
   ]
  },
  {
   "cell_type": "code",
   "execution_count": 2,
   "metadata": {
    "lines_to_next_cell": 0
   },
   "outputs": [],
   "source": [
    "import glob"
   ]
  },
  {
   "cell_type": "code",
   "execution_count": 3,
   "metadata": {},
   "outputs": [],
   "source": [
    "import os\n",
    "\n",
    "import numpy as np\n",
    "import pandas as pd\n",
    "import pyqtgraph as pg\n",
    "import pyqtgraph.dockarea\n",
    "import xarray as xr\n",
    "from pyqtgraph.Qt import QtCore\n",
    "from pyqtgraph.Qt import QtGui\n",
    "\n",
    "\n",
    "from IPython import get_ipython\n",
    "try:\n",
    "    get_ipython().magic('gui qt5')\n",
    "    INT = True\n",
    "except:\n",
    "    INT = False\n",
    "    \n",
    "import pyqtgraph.functions\n",
    "import true_eq"
   ]
  },
  {
   "cell_type": "code",
   "execution_count": 4,
   "metadata": {},
   "outputs": [],
   "source": [
    "das = xr.open_dataset('../data_out/test_data/da.nc')"
   ]
  },
  {
   "cell_type": "code",
   "execution_count": 5,
   "metadata": {},
   "outputs": [],
   "source": [
    "from BananaPlotNode import BananaPlotNode, BananaPlot"
   ]
  },
  {
   "cell_type": "code",
   "execution_count": 6,
   "metadata": {},
   "outputs": [],
   "source": [
    "from .. import confg"
   ]
  },
  {
   "cell_type": "code",
   "execution_count": 8,
   "metadata": {},
   "outputs": [],
   "source": [
    "try:\n",
    "    mw.close()\n",
    "except:\n",
    "    pass \n",
    "\n",
    "bn = BananaPlotNode('b1')\n",
    "\n",
    "mw = QtGui.QMainWindow()\n",
    "da = pg.dockarea.DockArea()\n",
    "\n",
    "mw.setCentralWidget(da)\n",
    "\n",
    "mw.show()\n",
    "\n",
    "daS = {'main': ('horizontal',\n",
    "  [('dock', 'dck2', {}),\n",
    "   ('vertical',\n",
    "    [('dock', 'dck3', {}), ('dock', 'dck1', {})],\n",
    "    {'sizes': [463, 462]})],\n",
    "  {'sizes': [247, 564]}),\n",
    " 'float': []}\n",
    "\n",
    "\n",
    "\n",
    "dck1 = pg.dockarea.Dock('dck1')\n",
    "dck2 = pg.dockarea.Dock('dck2')\n",
    "\n",
    "da.addDock(dck1)\n",
    "da.addDock(dck2)\n",
    "\n",
    "dck3 = pg.dockarea.Dock('dck3')\n",
    "\n",
    "da.addDock(dck3)\n",
    "\n",
    "da.restoreState(daS)\n",
    "\n",
    "\n",
    "fw = pg.flowchart.Flowchart(terminals={\n",
    "    'dataIn': {'io': 'in'},\n",
    "    'dataOut': {'io': 'out'}\n",
    "})\n",
    "\n",
    "w = fw.widget()\n",
    "\n",
    "dck2.addWidget(w)\n",
    "\n",
    "fw.addNode(bn,name='b1')\n",
    "\n",
    "confg.dock_area = da\n",
    "\n",
    "\n",
    "pyqtgraph.functions.eq = true_eq.eq\n",
    "\n",
    "fw.setInput(**{'dataIn':das['dndlDp']})\n",
    "\n",
    "fw.connectTerminals(fw['dataIn'], bn['dataIn'])\n",
    "\n",
    "mw.setGeometry(QtCore.QRect(491, 53, 1070, 752))\n"
   ]
  },
  {
   "cell_type": "code",
   "execution_count": null,
   "metadata": {},
   "outputs": [],
   "source": []
  },
  {
   "cell_type": "code",
   "execution_count": null,
   "metadata": {},
   "outputs": [],
   "source": []
  }
 ],
 "metadata": {
  "kernelspec": {
   "display_name": "Python [conda env:q5]",
   "language": "python",
   "name": "conda-env-q5-py"
  },
  "language_info": {
   "codemirror_mode": {
    "name": "ipython",
    "version": 3
   },
   "file_extension": ".py",
   "mimetype": "text/x-python",
   "name": "python",
   "nbconvert_exporter": "python",
   "pygments_lexer": "ipython3",
   "version": "3.9.7"
  }
 },
 "nbformat": 4,
 "nbformat_minor": 4
}
