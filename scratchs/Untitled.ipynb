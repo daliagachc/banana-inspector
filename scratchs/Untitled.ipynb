{
 "cells": [
  {
   "cell_type": "code",
   "execution_count": null,
   "id": "b8b4bf27-1318-4288-9939-75dfcf35179a",
   "metadata": {},
   "outputs": [
    {
     "name": "stderr",
     "output_type": "stream",
     "text": [
      "2021-10-01 10:29:43,886 bnn          INFO     interactive\n"
     ]
    }
   ],
   "source": [
    "import banana_inspector.util.log_bnn as lg\n",
    "\n",
    "lg.ger.setLevel(10)\n",
    "from IPython import get_ipython\n",
    "try:\n",
    "    get_ipython().magic('gui qt5')\n",
    "    INT = True\n",
    "    lg.ger.info('interactive')\n",
    "\n",
    "except:\n",
    "    INT = False\n",
    "    lg.ger.info('not interactive')\n",
    "    \n",
    "    \n",
    "    \n",
    "import pyqtgraph as pg\n",
    "import banana_inspector as bi\n",
    "from banana_inspector import confg\n",
    "\n",
    "import numpy as np\n",
    "import pyqtgraph as pg\n",
    "import pyqtgraph.dockarea\n",
    "import pyqtgraph.flowchart\n",
    "import xarray as xr\n",
    "from pyqtgraph.Qt import QtCore\n",
    "from pyqtgraph.Qt import QtGui\n",
    "from pyqtgraph.Qt import QtWidgets\n",
    "\n",
    "\n",
    "import time\n",
    "time.sleep(2)\n",
    "    \n",
    "\n",
    "confg.main_window = mw = QtGui.QMainWindow()\n",
    "confg.dock_area = da = pg.dockarea.DockArea()\n",
    "confg.main_fchart = fc = pg.flowchart.Flowchart()\n",
    "d1 = pg.dockarea.Dock('mnk-tool')\n",
    "d2 = pg.dockarea.Dock('dummy')\n",
    "d3 = pg.dockarea.Dock('flow-chart')\n",
    "\n",
    "mw.setCentralWidget(da)\n",
    "da.addDock(d1)\n",
    "da.addDock(d2)\n",
    "da.addDock(d3)"
   ]
  },
  {
   "cell_type": "code",
   "execution_count": null,
   "id": "1b26d877-0e57-4802-8c0e-87a3b32ac427",
   "metadata": {},
   "outputs": [
    {
     "name": "stderr",
     "output_type": "stream",
     "text": [
      "2021-10-01 10:28:31,860 bnn          INFO     interactive\n"
     ]
    }
   ],
   "source": [
    "if INT is False:\n",
    "    pg.exec()\n",
    "if INT is True:\n",
    "#     time.sleep(2)\n",
    "    confg.main_window.show()\n",
    "    #     lg.ger.info('interactive')"
   ]
  },
  {
   "cell_type": "code",
   "execution_count": 5,
   "id": "89e5780d-dd86-4c02-bf08-26bad33f9185",
   "metadata": {},
   "outputs": [],
   "source": []
  },
  {
   "cell_type": "code",
   "execution_count": null,
   "id": "8bc2fcf8-897b-4ae0-8939-42ae17725056",
   "metadata": {},
   "outputs": [],
   "source": []
  }
 ],
 "metadata": {
  "kernelspec": {
   "display_name": "Python [conda env:q5]",
   "language": "python",
   "name": "conda-env-q5-py"
  },
  "language_info": {
   "codemirror_mode": {
    "name": "ipython",
    "version": 3
   },
   "file_extension": ".py",
   "mimetype": "text/x-python",
   "name": "python",
   "nbconvert_exporter": "python",
   "pygments_lexer": "ipython3",
   "version": "3.9.7"
  }
 },
 "nbformat": 4,
 "nbformat_minor": 5
}
