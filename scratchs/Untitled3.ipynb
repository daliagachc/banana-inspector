{
 "cells": [
  {
   "cell_type": "code",
   "execution_count": 1,
   "id": "ad5dbf63-ef73-4d3f-8f95-a7165f98c07c",
   "metadata": {},
   "outputs": [
    {
     "name": "stderr",
     "output_type": "stream",
     "text": [
      "2021-10-04 08:04:13,891 bnn          INFO     interactive\n"
     ]
    }
   ],
   "source": [
    "'''simplest possible app\n",
    "also the main lauout for the application\n",
    "maybe it shold be a test at some point\\\n",
    "'''\n",
    "\n",
    "import pyqtgraph as pg\n",
    "import pyqtgraph.console\n",
    "import pyqtgraph.dockarea\n",
    "import pyqtgraph.flowchart\n",
    "from pyqtgraph.Qt import QtWidgets\n",
    "\n",
    "import banana_inspector.util.log_bnn as lg\n",
    "from banana_inspector import confg\n",
    "import banana_inspector.util.console\n",
    "\n",
    "lg.ger.setLevel(10)\n",
    "\n",
    "\n",
    "def set_int():\n",
    "    from IPython import get_ipython\n",
    "    try:\n",
    "        get_ipython().magic('gui qt5')\n",
    "        INT = True\n",
    "        lg.ger.info('interactive')\n",
    "        pass\n",
    "        # INT = False\n",
    "\n",
    "    except:\n",
    "        INT = False\n",
    "        lg.ger.info('not interactive')\n",
    "    return INT\n",
    "\n",
    "\n",
    "INT = False\n",
    "INT = set_int()"
   ]
  },
  {
   "cell_type": "code",
   "execution_count": 2,
   "id": "4ce7ad78-81c6-4a03-84aa-f55a7a87b043",
   "metadata": {},
   "outputs": [
    {
     "name": "stderr",
     "output_type": "stream",
     "text": [
      "qt.qpa.fonts: Populating font family aliases took 233 ms. Replace uses of missing font family \"Monospace\" with one that exists to avoid this cost. \n",
      "2021-10-04 08:04:18,020 bnn          DEBUG    ../examples/proj_files/peel_node.cf\n"
     ]
    },
    {
     "name": "stdout",
     "output_type": "stream",
     "text": [
      "change ggg \n",
      "change ggg \n",
      "change ggg \n",
      "change ggg \n",
      "change ggg \n",
      "change ggg \n",
      "change ggg \n",
      "change ggg \n",
      "change ggg \n",
      "change ggg \n",
      "change ggg \n",
      "change ggg \n",
      "change ggg \n",
      "change ggg \n",
      "change ggg \n",
      "change ggg \n"
     ]
    },
    {
     "name": "stderr",
     "output_type": "stream",
     "text": [
      "2021-10-04 08:17:03,451 bnn          DEBUG    {'main': ('vertical', [('dock', 'BananaPlotNodeRegion.0', {}), ('horizontal', [('vertical', [('dock', 'mnk-tool', {}), ('dock', 'flow-chart', {})], {'sizes': [186, 598]}), ('vertical', [('tab', [('dock', 'dummy', {}), ('dock', 'BananaPlotNodeCut.0', {}), ('dock', 'console', {})], {'index': 1}), ('dock', 'BananaPlotNodeCut.1', {}), ('dock', 'BananaPlotNodeCut.2', {})], {'sizes': [236, 295, 246]})], {'sizes': [665, 1004]})], {'sizes': [195, 791]}), 'float': []}\n",
      "2021-10-04 08:17:03,452 bnn          DEBUG    {'pos': (0.0, 0.0), 'bypass': False, 'terminals': OrderedDict([('nais_in', {'io': 'in', 'multi': False, 'optional': False, 'renamable': False, 'removable': False, 'multiable': False}), ('smps_in', {'io': 'in', 'multi': False, 'optional': False, 'renamable': False, 'removable': False, 'multiable': False})]), 'nodes': [{'class': 'BananaPlotNodeRegion', 'name': 'BananaPlotNodeRegion.0', 'pos': (-20.756800000000027, -57.95919999999998), 'state': {'pos': (-20.756800000000027, -57.95919999999998), 'bypass': False, 'ctrl': {'type': 'group', 'readonly': False, 'visible': True, 'enabled': True, 'renamable': False, 'removable': False, 'strictNaming': False, 'expanded': True, 'syncExpanded': False, 'title': None, 'name': 'params', 'value': None, 'default': None, 'children': OrderedDict([('t1', {'type': 'float', 'readonly': False, 'visible': True, 'enabled': True, 'renamable': False, 'removable': False, 'strictNaming': False, 'expanded': True, 'syncExpanded': False, 'title': None, 'name': 't1', 'value': 1522481345.454317, 'default': 1000000000.0}), ('t2', {'type': 'float', 'readonly': False, 'visible': True, 'enabled': True, 'renamable': False, 'removable': False, 'strictNaming': False, 'expanded': True, 'syncExpanded': False, 'title': None, 'name': 't2', 'value': 1522577227.1406958, 'default': 2000000000.0}), ('t3', {'type': 'float', 'readonly': False, 'visible': True, 'enabled': True, 'renamable': False, 'removable': False, 'strictNaming': False, 'expanded': True, 'syncExpanded': False, 'title': None, 'name': 't3', 'value': 5.0, 'default': 2.0}), ('dock', {'type': 'str', 'readonly': False, 'visible': True, 'enabled': True, 'renamable': False, 'removable': False, 'strictNaming': False, 'expanded': True, 'syncExpanded': False, 'title': None, 'name': 'dock', 'value': 'BananaPlotNodeRegion.0', 'default': 'BananaPlotNodeRegion'})])}}}, {'class': 'SliceBnnNode', 'name': 'SliceBnnNode.0', 'pos': (13.111999999999966, 17.036), 'state': {'pos': (13.111999999999966, 17.036), 'bypass': False, 'ctrl': {'type': 'group', 'readonly': False, 'visible': True, 'enabled': True, 'renamable': False, 'removable': False, 'strictNaming': False, 'expanded': True, 'syncExpanded': False, 'title': None, 'name': 'params', 'value': None, 'default': None}}}, {'class': 'SliceBnnNode', 'name': 'SliceBnnNode.1', 'pos': (126.20959999999991, 82.35440000000003), 'state': {'pos': (126.20959999999991, 82.35440000000003), 'bypass': False, 'ctrl': {'type': 'group', 'readonly': False, 'visible': True, 'enabled': True, 'renamable': False, 'removable': False, 'strictNaming': False, 'expanded': True, 'syncExpanded': False, 'title': None, 'name': 'params', 'value': None, 'default': None}}}, {'class': 'RegridBnnNode', 'name': 'RegridBnnNode.1', 'pos': (234.08303791906923, -90.7554257652574), 'state': {'pos': (234.08303791906923, -90.7554257652574), 'bypass': False, 'ctrl': {'type': 'group', 'readonly': False, 'visible': True, 'enabled': True, 'renamable': False, 'removable': False, 'strictNaming': False, 'expanded': True, 'syncExpanded': False, 'title': None, 'name': 'params', 'value': None, 'default': None, 'children': OrderedDict([('n_subs', {'type': 'int', 'readonly': False, 'visible': True, 'enabled': True, 'renamable': False, 'removable': False, 'strictNaming': False, 'expanded': True, 'syncExpanded': False, 'title': None, 'name': 'n_subs', 'value': 11, 'default': 11}), ('log_dx', {'type': 'float', 'readonly': False, 'visible': True, 'enabled': True, 'renamable': False, 'removable': False, 'strictNaming': False, 'expanded': True, 'syncExpanded': False, 'title': None, 'name': 'log_dx', 'value': 0.05, 'default': 0.5})])}}}, {'class': 'RegridBnnNode', 'name': 'RegridBnnNode.0', 'pos': (239.91199999999998, 65.41999999999999), 'state': {'pos': (239.91199999999998, 65.41999999999999), 'bypass': False, 'ctrl': {'type': 'group', 'readonly': False, 'visible': True, 'enabled': True, 'renamable': False, 'removable': False, 'strictNaming': False, 'expanded': True, 'syncExpanded': False, 'title': None, 'name': 'params', 'value': None, 'default': None, 'children': OrderedDict([('n_subs', {'type': 'int', 'readonly': False, 'visible': True, 'enabled': True, 'renamable': False, 'removable': False, 'strictNaming': False, 'expanded': True, 'syncExpanded': False, 'title': None, 'name': 'n_subs', 'value': 11, 'default': 11}), ('log_dx', {'type': 'float', 'readonly': False, 'visible': True, 'enabled': True, 'renamable': False, 'removable': False, 'strictNaming': False, 'expanded': True, 'syncExpanded': False, 'title': None, 'name': 'log_dx', 'value': 0.05, 'default': 0.5})])}}}, {'class': 'CombineSpectraNode', 'name': 'CombineSpectraNode.0', 'pos': (394.22442838899656, 3.560975983902239), 'state': {'pos': (394.22442838899656, 3.560975983902239), 'bypass': False, 'ctrl': {'type': 'group', 'readonly': False, 'visible': True, 'enabled': True, 'renamable': False, 'removable': False, 'strictNaming': False, 'expanded': True, 'syncExpanded': False, 'title': None, 'name': 'params', 'value': None, 'default': None, 'children': OrderedDict([('lDp_cut', {'type': 'float', 'readonly': False, 'visible': True, 'enabled': True, 'renamable': False, 'removable': False, 'strictNaming': False, 'expanded': True, 'syncExpanded': False, 'title': None, 'name': 'lDp_cut', 'value': -8.0, 'limits': [-10, -2], 'step': 0.1, 'default': -8.0}), ('magL', {'type': 'float', 'readonly': False, 'visible': True, 'enabled': True, 'renamable': False, 'removable': False, 'strictNaming': False, 'expanded': True, 'syncExpanded': False, 'title': None, 'name': 'magL', 'value': 100.0, 'limits': [0, 100000.0], 'step': 0.1, 'dec': True, 'default': 1.0}), ('magU', {'type': 'float', 'readonly': False, 'visible': True, 'enabled': True, 'renamable': False, 'removable': False, 'strictNaming': False, 'expanded': True, 'syncExpanded': False, 'title': None, 'name': 'magU', 'value': 1.0, 'limits': [0, 100000.0], 'step': 0.1, 'dec': True, 'default': 1.0})])}}}, {'class': 'GaussianFilterNode', 'name': 'GaussianFilterNode.0', 'pos': (542.9486392650543, 43.70257839485055), 'state': {'pos': (542.9486392650543, 43.70257839485055), 'bypass': False, 'ctrl': {'type': 'group', 'readonly': False, 'visible': True, 'enabled': True, 'renamable': False, 'removable': False, 'strictNaming': False, 'expanded': True, 'syncExpanded': False, 'title': None, 'name': 'params', 'value': None, 'default': None, 'children': OrderedDict([('x_h', {'type': 'float', 'readonly': False, 'visible': True, 'enabled': True, 'renamable': False, 'removable': False, 'strictNaming': False, 'expanded': True, 'syncExpanded': False, 'title': None, 'name': 'x_h', 'value': 0.3, 'limits': [0.0001, 2], 'dec': True, 'step': 0.1, 'default': 0.01}), ('y_log', {'type': 'float', 'readonly': False, 'visible': True, 'enabled': True, 'renamable': False, 'removable': False, 'strictNaming': False, 'expanded': True, 'syncExpanded': False, 'title': None, 'name': 'y_log', 'value': 0.05, 'limits': [0.001, 1], 'dec': True, 'step': 0.01, 'default': 0.01})])}}}, {'class': 'BananaPlotNodeCut', 'name': 'BananaPlotNodeCut.0', 'pos': (668.4730863922792, -112.80794399992322), 'state': {'pos': (668.4730863922792, -112.80794399992322), 'bypass': False, 'ctrl': {'type': 'group', 'readonly': False, 'visible': True, 'enabled': True, 'renamable': False, 'removable': False, 'strictNaming': False, 'expanded': True, 'syncExpanded': False, 'title': None, 'name': 'params', 'value': None, 'default': None, 'children': OrderedDict([('dock', {'type': 'str', 'readonly': False, 'visible': True, 'enabled': True, 'renamable': False, 'removable': False, 'strictNaming': False, 'expanded': True, 'syncExpanded': False, 'title': None, 'name': 'dock', 'value': 'BananaPlotNodeCut.0', 'default': 'BananaPlotNodeCut'})])}}}, {'class': 'QNormFilterNode', 'name': 'QNormFilterNode.0', 'pos': (658.3021443016869, 4.3078910878678585), 'state': {'pos': (658.3021443016869, 4.3078910878678585), 'bypass': False, 'ctrl': {'type': 'group', 'readonly': False, 'visible': True, 'enabled': True, 'renamable': False, 'removable': False, 'strictNaming': False, 'expanded': True, 'syncExpanded': False, 'title': None, 'name': 'params', 'value': None, 'default': None, 'children': OrderedDict([('q0', {'type': 'float', 'readonly': False, 'visible': True, 'enabled': True, 'renamable': False, 'removable': False, 'strictNaming': False, 'expanded': True, 'syncExpanded': False, 'title': None, 'name': 'q0', 'value': 0.05, 'limits': [0, 0.5], 'dec': True, 'step': 0.05, 'default': 0.05}), ('q1', {'type': 'float', 'readonly': False, 'visible': True, 'enabled': True, 'renamable': False, 'removable': False, 'strictNaming': False, 'expanded': True, 'syncExpanded': False, 'title': None, 'name': 'q1', 'value': 0.95, 'limits': [0.5, 1], 'dec': True, 'step': 0.05, 'default': 0.95})])}}}, {'class': 'BananaPlotNodeCut', 'name': 'BananaPlotNodeCut.1', 'pos': (780.956198628265, 44.358194541444675), 'state': {'pos': (780.956198628265, 44.358194541444675), 'bypass': False, 'ctrl': {'type': 'group', 'readonly': False, 'visible': True, 'enabled': True, 'renamable': False, 'removable': False, 'strictNaming': False, 'expanded': True, 'syncExpanded': False, 'title': None, 'name': 'params', 'value': None, 'default': None, 'children': OrderedDict([('dock', {'type': 'str', 'readonly': False, 'visible': True, 'enabled': True, 'renamable': False, 'removable': False, 'strictNaming': False, 'expanded': True, 'syncExpanded': False, 'title': None, 'name': 'dock', 'value': 'BananaPlotNodeCut.1', 'default': 'BananaPlotNodeCut'})])}}}, {'class': 'BananaPlotNodeCut', 'name': 'BananaPlotNodeCut.2', 'pos': (455.5474830679538, -155.89332272643958), 'state': {'pos': (455.5474830679538, -155.89332272643958), 'bypass': False, 'ctrl': {'type': 'group', 'readonly': False, 'visible': True, 'enabled': True, 'renamable': False, 'removable': False, 'strictNaming': False, 'expanded': True, 'syncExpanded': False, 'title': None, 'name': 'params', 'value': None, 'default': None, 'children': OrderedDict([('dock', {'type': 'str', 'readonly': False, 'visible': True, 'enabled': True, 'renamable': False, 'removable': False, 'strictNaming': False, 'expanded': True, 'syncExpanded': False, 'title': None, 'name': 'dock', 'value': 'BananaPlotNodeCut.2', 'default': 'BananaPlotNodeCut'})])}}}], 'connects': [('BananaPlotNodeRegion.0', 't2', 'SliceBnnNode.0', 't2'), ('SliceBnnNode.0', 'dataOut', 'RegridBnnNode.1', 'dataIn'), ('RegridBnnNode.1', 'dataOut', 'CombineSpectraNode.0', 'dataLow'), ('Input', 'smps_in', 'SliceBnnNode.1', 'dataIn'), ('CombineSpectraNode.0', 'dataOut', 'GaussianFilterNode.0', 'dataIn'), ('GaussianFilterNode.0', 'dataOut', 'BananaPlotNodeCut.0', 'dataIn'), ('BananaPlotNodeRegion.0', 't1', 'SliceBnnNode.1', 't1'), ('QNormFilterNode.0', 'dataOut', 'BananaPlotNodeCut.1', 'dataIn'), ('BananaPlotNodeRegion.0', 't2', 'SliceBnnNode.1', 't2'), ('Input', 'nais_in', 'SliceBnnNode.0', 'dataIn'), ('Input', 'nais_in', 'BananaPlotNodeRegion.0', 'dataIn'), ('RegridBnnNode.0', 'dataOut', 'CombineSpectraNode.0', 'dataUp'), ('CombineSpectraNode.0', 'dataOut', 'BananaPlotNodeCut.2', 'dataIn'), ('BananaPlotNodeRegion.0', 't1', 'BananaPlotNodeCut.0', 't1'), ('SliceBnnNode.1', 'dataOut', 'RegridBnnNode.0', 'dataIn'), ('GaussianFilterNode.0', 'dataOut', 'QNormFilterNode.0', 'dataIn'), ('BananaPlotNodeRegion.0', 't2', 'BananaPlotNodeCut.0', 't2'), ('BananaPlotNodeRegion.0', 't1', 'SliceBnnNode.0', 't1')], 'inputNode': {'pos': (-150.0, 0.0), 'bypass': False, 'terminals': OrderedDict([('nais_in', {'io': 'out', 'multi': False, 'optional': False, 'renamable': False, 'removable': False, 'multiable': False}), ('smps_in', {'io': 'out', 'multi': False, 'optional': False, 'renamable': False, 'removable': False, 'multiable': False})])}, 'outputNode': {'pos': (453.2641528423844, 172.9134032067925), 'bypass': False, 'terminals': OrderedDict()}}\n",
      "QGraphicsScene::removeItem: item 0x10340f400's scene (0x0) is different from this scene (0x157431490)\n",
      "/Users/aliaga/py-packs/pyqtgraph/pyqtgraph/GraphicsScene/GraphicsScene.py:353: RuntimeWarning: Error sending hover exit event:\n",
      "Traceback (most recent call last):\n",
      "  File \"/Users/aliaga/miniforge3/envs/q5/lib/python3.9/runpy.py\", line 197, in _run_module_as_main\n",
      "    return _run_code(code, main_globals, None,\n",
      "  File \"/Users/aliaga/miniforge3/envs/q5/lib/python3.9/runpy.py\", line 87, in _run_code\n",
      "    exec(code, run_globals)\n",
      "  File \"/Users/aliaga/miniforge3/envs/q5/lib/python3.9/site-packages/ipykernel_launcher.py\", line 16, in <module>\n",
      "    app.launch_new_instance()\n",
      "  File \"/Users/aliaga/miniforge3/envs/q5/lib/python3.9/site-packages/traitlets/config/application.py\", line 846, in launch_instance\n",
      "    app.start()\n",
      "  File \"/Users/aliaga/miniforge3/envs/q5/lib/python3.9/site-packages/ipykernel/kernelapp.py\", line 677, in start\n",
      "    self.io_loop.start()\n",
      "  File \"/Users/aliaga/miniforge3/envs/q5/lib/python3.9/site-packages/tornado/platform/asyncio.py\", line 199, in start\n",
      "    self.asyncio_loop.run_forever()\n",
      "  File \"/Users/aliaga/miniforge3/envs/q5/lib/python3.9/asyncio/base_events.py\", line 596, in run_forever\n",
      "    self._run_once()\n",
      "  File \"/Users/aliaga/miniforge3/envs/q5/lib/python3.9/asyncio/base_events.py\", line 1890, in _run_once\n",
      "    handle._run()\n",
      "  File \"/Users/aliaga/miniforge3/envs/q5/lib/python3.9/asyncio/events.py\", line 80, in _run\n",
      "    self._context.run(self._callback, *self._args)\n",
      "  File \"/Users/aliaga/miniforge3/envs/q5/lib/python3.9/site-packages/tornado/ioloop.py\", line 741, in _run_callback\n",
      "    ret = callback()\n",
      "  File \"/Users/aliaga/miniforge3/envs/q5/lib/python3.9/site-packages/ipykernel/kernelbase.py\", line 402, in advance_eventloop\n",
      "    eventloop(self)\n",
      "  File \"/Users/aliaga/miniforge3/envs/q5/lib/python3.9/site-packages/ipykernel/eventloops.py\", line 138, in loop_qt5\n",
      "    return loop_qt4(kernel)\n",
      "  File \"/Users/aliaga/miniforge3/envs/q5/lib/python3.9/site-packages/ipykernel/eventloops.py\", line 131, in loop_qt4\n",
      "    _loop_qt(kernel.app)\n",
      "  File \"/Users/aliaga/miniforge3/envs/q5/lib/python3.9/site-packages/ipykernel/eventloops.py\", line 106, in _loop_qt\n",
      "    app.exec_()\n",
      "  File \"/Users/aliaga/py-packs/pyqtgraph/pyqtgraph/widgets/GraphicsView.py\", line 349, in mouseReleaseEvent\n",
      "    super().mouseReleaseEvent(ev)\n",
      "  File \"/Users/aliaga/py-packs/pyqtgraph/pyqtgraph/GraphicsScene/GraphicsScene.py\", line 231, in mouseReleaseEvent\n",
      "    if self.sendDragEvent(ev, final=True):\n",
      "  File \"/Users/aliaga/py-packs/pyqtgraph/pyqtgraph/GraphicsScene/GraphicsScene.py\", line 353, in sendDragEvent\n",
      "    debug.printExc(\"Error sending hover exit event:\")\n",
      "  --- exception caught here ---\n",
      "  File \"/Users/aliaga/py-packs/pyqtgraph/pyqtgraph/GraphicsScene/GraphicsScene.py\", line 351, in sendDragEvent\n",
      "    self.dragItem.mouseDragEvent(event)\n",
      "  File \"/Users/aliaga/py-packs/pyqtgraph/pyqtgraph/flowchart/Terminal.py\", line 425, in mouseDragEvent\n",
      "    self.term.connectTo(i.term, self.newConnection)\n",
      "  File \"/Users/aliaga/py-packs/pyqtgraph/pyqtgraph/flowchart/Terminal.py\", line 193, in connectTo\n",
      "    raise Exception(\"Cannot connect %s <-> %s: Terminal %s is already connected to %s (and does not allow multiple connections)\" % (self, term, t, list(t.connections().keys())))\n",
      "Exception: Cannot connect <Terminal BananaPlotNodeRegion.0.dataIn> <-> <Terminal SliceBnnNode.0.dataIn>: Terminal <Terminal BananaPlotNodeRegion.0.dataIn> is already connected to [<Terminal DeUtcNode.0.dataOut>] (and does not allow multiple connections)\n",
      "  debug.printExc(\"Error sending hover exit event:\")\n",
      "QGraphicsScene::removeItem: item 0x1576b9c30's scene (0x0) is different from this scene (0x157431490)\n"
     ]
    },
    {
     "name": "stdout",
     "output_type": "stream",
     "text": [
      "change ggg \n"
     ]
    }
   ],
   "source": [
    "###################\n",
    "import banana_inspector.apps.basic_app as app\n",
    "import banana_inspector.monkey_tool as mk_tool\n",
    "import banana_inspector.node_setup\n",
    "\n",
    "fc = confg.main_fchart\n",
    "import xarray as xr\n",
    "nais_da = xr.open_dataarray('../banana_inspector/data_example/nais_chc_data.nc')\n",
    "smps_da = xr.open_dataarray('../banana_inspector/data_example/smps_chc_data.nc')\n",
    "fc.addTerminal('nais_in',**{'io':'in'})\n",
    "fc.addTerminal('smps_in',**{'io':'in'})\n",
    "fc.setInput(**{'nais_in':nais_da})\n",
    "fc.setInput(**{'smps_in':smps_da})\n",
    "app.mw.show()\n",
    "\n",
    "p = confg.par_tree\n",
    "\n",
    "\n",
    "\n",
    "p['project dir'] = '../examples/proj_files/'\n",
    "p['file proj'] = '../examples/proj_files/peel_node.cf'\n",
    "\n",
    "\n",
    "\n",
    "\n",
    "try:\n",
    "    mk_tool.open_project()\n",
    "except:\n",
    "    pass\n",
    "    '''maybe file doesnt exist yet '''\n",
    "###################\n",
    "\n",
    "if INT is False:\n",
    "    pg.exec()\n",
    "if INT is True:\n",
    "    pass\n",
    "    confg.main_window.show()"
   ]
  },
  {
   "cell_type": "code",
   "execution_count": 3,
   "id": "b4f2be6e-3478-4a56-b819-5a1c3e2de2d6",
   "metadata": {},
   "outputs": [
    {
     "name": "stdout",
     "output_type": "stream",
     "text": [
      "main_window: (2, 55, 1676, 993)\n",
      "dock_area:\n",
      "    main: ('vertical', [('dock', 'BananaPlotNodeRegion.0', {}), ('horizontal', [('vertical', [('dock', 'mnk-tool', {}), ('dock', 'flow-chart', {})], {'sizes': [154, 496]}), ('tab', [('dock', 'dummy', {}), ('dock', 'BananaPlotNodeCut.0', {}), ('dock', 'console', {})], {'index': 1})], {'sizes': [407, 1262]})], {'sizes': [329, 657]})\n",
      "    float: []\n",
      "flow_chart:\n",
      "    pos: (0.0, 0.0)\n",
      "    bypass: False\n",
      "    terminals:\n",
      "        nais_in:\n",
      "            io: 'in'\n",
      "            multi: False\n",
      "            optional: False\n",
      "            renamable: False\n",
      "            removable: False\n",
      "            multiable: False\n",
      "        smps_in:\n",
      "            io: 'in'\n",
      "            multi: False\n",
      "            optional: False\n",
      "            renamable: False\n",
      "            removable: False\n",
      "            multiable: False\n",
      "    nodes: [{'class': 'BananaPlotNodeRegion', 'name': 'BananaPlotNodeRegion.0', 'pos': (-20.756800000000027, -57.95919999999998), 'state': {'pos': (-20.756800000000027, -57.95919999999998), 'bypass': False, 'ctrl': {'type': 'group', 'readonly': False, 'visible': True, 'enabled': True, 'renamable': False, 'removable': False, 'strictNaming': False, 'expanded': True, 'syncExpanded': False, 'title': None, 'name': 'params', 'value': None, 'default': None, 'children': OrderedDict([('t1', {'type': 'float', 'readonly': False, 'visible': True, 'enabled': True, 'renamable': False, 'removable': False, 'strictNaming': False, 'expanded': True, 'syncExpanded': False, 'title': None, 'name': 't1', 'value': 1523214572.9317243, 'default': 1000000000.0}), ('t2', {'type': 'float', 'readonly': False, 'visible': True, 'enabled': True, 'renamable': False, 'removable': False, 'strictNaming': False, 'expanded': True, 'syncExpanded': False, 'title': None, 'name': 't2', 'value': 1523737650.2263114, 'default': 2000000000.0}), ('t3', {'type': 'float', 'readonly': False, 'visible': True, 'enabled': True, 'renamable': False, 'removable': False, 'strictNaming': False, 'expanded': True, 'syncExpanded': False, 'title': None, 'name': 't3', 'value': 0.0, 'default': 2.0}), ('dock', {'type': 'str', 'readonly': False, 'visible': True, 'enabled': True, 'renamable': False, 'removable': False, 'strictNaming': False, 'expanded': True, 'syncExpanded': False, 'title': None, 'name': 'dock', 'value': 'BananaPlotNodeRegion.0', 'default': 'BananaPlotNodeRegion'})])}}}, {'class': 'SliceBnnNode', 'name': 'SliceBnnNode.0', 'pos': (13.111999999999966, 17.036), 'state': {'pos': (13.111999999999966, 17.036), 'bypass': False, 'ctrl': {'type': 'group', 'readonly': False, 'visible': True, 'enabled': True, 'renamable': False, 'removable': False, 'strictNaming': False, 'expanded': True, 'syncExpanded': False, 'title': None, 'name': 'params', 'value': None, 'default': None}}}, {'class': 'SliceBnnNode', 'name': 'SliceBnnNode.1', 'pos': (126.20959999999991, 82.35440000000003), 'state': {'pos': (126.20959999999991, 82.35440000000003), 'bypass': False, 'ctrl': {'type': 'group', 'readonly': False, 'visible': True, 'enabled': True, 'renamable': False, 'removable': False, 'strictNaming': False, 'expanded': True, 'syncExpanded': False, 'title': None, 'name': 'params', 'value': None, 'default': None}}}, {'class': 'RegridBnnNode', 'name': 'RegridBnnNode.1', 'pos': (234.08303791906923, -90.7554257652574), 'state': {'pos': (234.08303791906923, -90.7554257652574), 'bypass': False, 'ctrl': {'type': 'group', 'readonly': False, 'visible': True, 'enabled': True, 'renamable': False, 'removable': False, 'strictNaming': False, 'expanded': True, 'syncExpanded': False, 'title': None, 'name': 'params', 'value': None, 'default': None, 'children': OrderedDict([('n_subs', {'type': 'int', 'readonly': False, 'visible': True, 'enabled': True, 'renamable': False, 'removable': False, 'strictNaming': False, 'expanded': True, 'syncExpanded': False, 'title': None, 'name': 'n_subs', 'value': 11, 'default': 11}), ('log_dx', {'type': 'float', 'readonly': False, 'visible': True, 'enabled': True, 'renamable': False, 'removable': False, 'strictNaming': False, 'expanded': True, 'syncExpanded': False, 'title': None, 'name': 'log_dx', 'value': 0.05, 'default': 0.5})])}}}, {'class': 'RegridBnnNode', 'name': 'RegridBnnNode.0', 'pos': (239.91199999999998, 65.41999999999999), 'state': {'pos': (239.91199999999998, 65.41999999999999), 'bypass': False, 'ctrl': {'type': 'group', 'readonly': False, 'visible': True, 'enabled': True, 'renamable': False, 'removable': False, 'strictNaming': False, 'expanded': True, 'syncExpanded': False, 'title': None, 'name': 'params', 'value': None, 'default': None, 'children': OrderedDict([('n_subs', {'type': 'int', 'readonly': False, 'visible': True, 'enabled': True, 'renamable': False, 'removable': False, 'strictNaming': False, 'expanded': True, 'syncExpanded': False, 'title': None, 'name': 'n_subs', 'value': 11, 'default': 11}), ('log_dx', {'type': 'float', 'readonly': False, 'visible': True, 'enabled': True, 'renamable': False, 'removable': False, 'strictNaming': False, 'expanded': True, 'syncExpanded': False, 'title': None, 'name': 'log_dx', 'value': 0.05, 'default': 0.5})])}}}, {'class': 'CombineSpectraNode', 'name': 'CombineSpectraNode.0', 'pos': (394.22442838899656, 3.560975983902239), 'state': {'pos': (394.22442838899656, 3.560975983902239), 'bypass': False, 'ctrl': {'type': 'group', 'readonly': False, 'visible': True, 'enabled': True, 'renamable': False, 'removable': False, 'strictNaming': False, 'expanded': True, 'syncExpanded': False, 'title': None, 'name': 'params', 'value': None, 'default': None, 'children': OrderedDict([('lDp_cut', {'type': 'float', 'readonly': False, 'visible': True, 'enabled': True, 'renamable': False, 'removable': False, 'strictNaming': False, 'expanded': True, 'syncExpanded': False, 'title': None, 'name': 'lDp_cut', 'value': -8.0, 'limits': [-10, -2], 'step': 0.1, 'default': -8.0}), ('magL', {'type': 'float', 'readonly': False, 'visible': True, 'enabled': True, 'renamable': False, 'removable': False, 'strictNaming': False, 'expanded': True, 'syncExpanded': False, 'title': None, 'name': 'magL', 'value': 100.0, 'limits': [0, 100000.0], 'step': 0.1, 'dec': True, 'default': 1.0}), ('magU', {'type': 'float', 'readonly': False, 'visible': True, 'enabled': True, 'renamable': False, 'removable': False, 'strictNaming': False, 'expanded': True, 'syncExpanded': False, 'title': None, 'name': 'magU', 'value': 1.0, 'limits': [0, 100000.0], 'step': 0.1, 'dec': True, 'default': 1.0})])}}}, {'class': 'BananaPlotNodeCut', 'name': 'BananaPlotNodeCut.0', 'pos': (642.6072654118441, -102.79536813652899), 'state': {'pos': (642.6072654118441, -102.79536813652899), 'bypass': False, 'ctrl': {'type': 'group', 'readonly': False, 'visible': True, 'enabled': True, 'renamable': False, 'removable': False, 'strictNaming': False, 'expanded': True, 'syncExpanded': False, 'title': None, 'name': 'params', 'value': None, 'default': None, 'children': OrderedDict([('dock', {'type': 'str', 'readonly': False, 'visible': True, 'enabled': True, 'renamable': False, 'removable': False, 'strictNaming': False, 'expanded': True, 'syncExpanded': False, 'title': None, 'name': 'dock', 'value': 'BananaPlotNodeCut.0', 'default': 'BananaPlotNodeCut'})])}}}, {'class': 'GaussianFilterNode', 'name': 'GaussianFilterNode.0', 'pos': (542.9486392650543, 43.70257839485055), 'state': {'pos': (542.9486392650543, 43.70257839485055), 'bypass': False, 'ctrl': {'type': 'group', 'readonly': False, 'visible': True, 'enabled': True, 'renamable': False, 'removable': False, 'strictNaming': False, 'expanded': True, 'syncExpanded': False, 'title': None, 'name': 'params', 'value': None, 'default': None, 'children': OrderedDict([('x_h', {'type': 'float', 'readonly': False, 'visible': True, 'enabled': True, 'renamable': False, 'removable': False, 'strictNaming': False, 'expanded': True, 'syncExpanded': False, 'title': None, 'name': 'x_h', 'value': 0.01, 'limits': [0.0001, 2], 'dec': True, 'default': 0.01}), ('y_log', {'type': 'float', 'readonly': False, 'visible': True, 'enabled': True, 'renamable': False, 'removable': False, 'strictNaming': False, 'expanded': True, 'syncExpanded': False, 'title': None, 'name': 'y_log', 'value': 0.01, 'limits': [0.001, 1], 'dec': True, 'default': 0.01})])}}}]\n",
      "    connects: [('BananaPlotNodeRegion.0', 't1', 'SliceBnnNode.1', 't1'), ('SliceBnnNode.0', 'dataOut', 'RegridBnnNode.1', 'dataIn'), ('BananaPlotNodeRegion.0', 't2', 'BananaPlotNodeCut.0', 't2'), ('Input', 'smps_in', 'SliceBnnNode.1', 'dataIn'), ('SliceBnnNode.1', 'dataOut', 'RegridBnnNode.0', 'dataIn'), ('BananaPlotNodeRegion.0', 't2', 'SliceBnnNode.1', 't2'), ('RegridBnnNode.1', 'dataOut', 'CombineSpectraNode.0', 'dataLow'), ('BananaPlotNodeRegion.0', 't1', 'SliceBnnNode.0', 't1'), ('GaussianFilterNode.0', 'dataOut', 'BananaPlotNodeCut.0', 'dataIn'), ('BananaPlotNodeRegion.0', 't1', 'BananaPlotNodeCut.0', 't1'), ('BananaPlotNodeRegion.0', 't2', 'SliceBnnNode.0', 't2'), ('Input', 'nais_in', 'SliceBnnNode.0', 'dataIn'), ('Input', 'nais_in', 'BananaPlotNodeRegion.0', 'dataIn'), ('RegridBnnNode.0', 'dataOut', 'CombineSpectraNode.0', 'dataUp'), ('CombineSpectraNode.0', 'dataOut', 'GaussianFilterNode.0', 'dataIn')]\n",
      "    inputNode:\n",
      "        pos: (-150.0, 0.0)\n",
      "        bypass: False\n",
      "        terminals:\n",
      "            nais_in:\n",
      "                io: 'out'\n",
      "                multi: False\n",
      "                optional: False\n",
      "                renamable: False\n",
      "                removable: False\n",
      "                multiable: False\n",
      "            smps_in:\n",
      "                io: 'out'\n",
      "                multi: False\n",
      "                optional: False\n",
      "                renamable: False\n",
      "                removable: False\n",
      "                multiable: False\n",
      "    outputNode:\n",
      "        pos: (453.2641528423844, 172.9134032067925)\n",
      "        bypass: False\n",
      "        terminals:\n"
     ]
    }
   ],
   "source": [
    "cat ../examples/proj_files/peel_node.cf"
   ]
  },
  {
   "cell_type": "code",
   "execution_count": 4,
   "id": "0dd04773-15a8-4629-97b7-548db40a7e3a",
   "metadata": {},
   "outputs": [],
   "source": [
    "pp = confg.main_fchart.nodes()['BananaPlotNodeCut.0']"
   ]
  },
  {
   "cell_type": "code",
   "execution_count": 5,
   "id": "ae62d927-7137-411b-a58c-946a49101739",
   "metadata": {},
   "outputs": [],
   "source": [
    "pi = pp.bp.plot_item"
   ]
  },
  {
   "cell_type": "code",
   "execution_count": 6,
   "id": "28da46e2-2418-4273-9f6c-9cf10f81bd39",
   "metadata": {},
   "outputs": [],
   "source": [
    "ab = pi.getAxis('bottom')"
   ]
  },
  {
   "cell_type": "code",
   "execution_count": 7,
   "id": "4cf2e6c7-4ae4-4d3c-8dd9-e6ab4fd186a9",
   "metadata": {},
   "outputs": [
    {
     "data": {
      "text/plain": [
       "{'targetRange': [[1523410084.4829, 1523519096.774219],\n",
       "  [-9.122409107249874, -6.2236478371770625]],\n",
       " 'viewRange': [[1523410084.4829, 1523519096.774219],\n",
       "  [-9.122409107249874, -6.2236478371770625]],\n",
       " 'yInverted': False,\n",
       " 'xInverted': False,\n",
       " 'aspectLocked': False,\n",
       " 'autoRange': [False, False],\n",
       " 'autoPan': [False, False],\n",
       " 'autoVisibleOnly': [False, False],\n",
       " 'linkedViews': [<weakref at 0x15a2d5d10; to 'ViewBox' at 0x15a2dc940>, None],\n",
       " 'defaultPadding': 0.02,\n",
       " 'mouseEnabled': [True, True],\n",
       " 'mouseMode': 3,\n",
       " 'enableMenu': True,\n",
       " 'wheelScaleFactor': -0.125,\n",
       " 'background': None,\n",
       " 'limits': {'xLimits': [-62135596800.0, 253370764800.0],\n",
       "  'yLimits': [None, None],\n",
       "  'xRange': [None, None],\n",
       "  'yRange': [None, None]}}"
      ]
     },
     "execution_count": 7,
     "metadata": {},
     "output_type": "execute_result"
    }
   ],
   "source": [
    "pi.getViewBox().state"
   ]
  },
  {
   "cell_type": "code",
   "execution_count": 8,
   "id": "d854b4da-eeb0-4b52-a91b-cbf72f897cda",
   "metadata": {},
   "outputs": [],
   "source": [
    "(x1,x2),(y1,y2) = pi.viewRange()\n",
    "\n",
    "x = (x1+x2)/2\n",
    "y = (y1+y2)/2\n",
    "\n",
    "xd = x2-x1\n",
    "yd = y2-y1"
   ]
  },
  {
   "cell_type": "code",
   "execution_count": 9,
   "id": "425a64e9-8a94-4bd7-b7ad-b6805e87ad31",
   "metadata": {},
   "outputs": [
    {
     "data": {
      "text/plain": [
       "2.8987612700728116"
      ]
     },
     "execution_count": 9,
     "metadata": {},
     "output_type": "execute_result"
    }
   ],
   "source": [
    "yd"
   ]
  },
  {
   "cell_type": "code",
   "execution_count": 10,
   "id": "bc96ec1d-d5c7-45ae-9c7e-82421ff90245",
   "metadata": {},
   "outputs": [],
   "source": [
    "roi = pg.PolyLineROI([[x,y],[x+1/2,y+1/2],[x+1,y+1]],closed=True)"
   ]
  },
  {
   "cell_type": "code",
   "execution_count": 11,
   "id": "6b0a0efe-8320-4bdc-acc5-73470818c6dd",
   "metadata": {},
   "outputs": [],
   "source": [
    "pi.addItem(roi)"
   ]
  },
  {
   "cell_type": "code",
   "execution_count": 12,
   "id": "0e0d0457-dc88-4a9e-95ad-7d3f0e96d0fa",
   "metadata": {},
   "outputs": [],
   "source": [
    "ss = roi.saveState()"
   ]
  },
  {
   "cell_type": "code",
   "execution_count": null,
   "id": "ec6eebc7-883b-418f-b2f7-2217c07a50fa",
   "metadata": {},
   "outputs": [],
   "source": []
  },
  {
   "cell_type": "code",
   "execution_count": 13,
   "id": "291703a0-4b3b-43d3-8562-93b95f650490",
   "metadata": {},
   "outputs": [],
   "source": [
    "ss['positions']=ss['points']"
   ]
  },
  {
   "cell_type": "code",
   "execution_count": 14,
   "id": "5cddf86e-a43c-4ffa-845a-c4f14a809f63",
   "metadata": {},
   "outputs": [
    {
     "data": {
      "text/plain": [
       "(1.0, 1.0)"
      ]
     },
     "execution_count": 14,
     "metadata": {},
     "output_type": "execute_result"
    }
   ],
   "source": [
    "ss.pop('points')\n",
    "ss.pop('size')"
   ]
  },
  {
   "cell_type": "code",
   "execution_count": 15,
   "id": "946f8a4f-a0ee-4e65-ad54-301a1c304adb",
   "metadata": {},
   "outputs": [
    {
     "data": {
      "text/plain": [
       "{'pos': (0.0, 0.0),\n",
       " 'angle': 0.0,\n",
       " 'closed': True,\n",
       " 'positions': [(1523464590.6285596, -7.673028472213469),\n",
       "  (1523464591.1285596, -7.173028472213469),\n",
       "  (1523464591.6285596, -6.673028472213469)]}"
      ]
     },
     "execution_count": 15,
     "metadata": {},
     "output_type": "execute_result"
    }
   ],
   "source": [
    "ss"
   ]
  },
  {
   "cell_type": "code",
   "execution_count": 16,
   "id": "ad7c6e25-886a-4c46-a036-e6809331d478",
   "metadata": {},
   "outputs": [],
   "source": [
    "r2 = pg.PolyLineROI(**ss)"
   ]
  },
  {
   "cell_type": "code",
   "execution_count": 17,
   "id": "6bd7f91b-9bdd-48de-87dd-8cd4bccc155d",
   "metadata": {},
   "outputs": [],
   "source": [
    "pi.removeItem(roi)"
   ]
  },
  {
   "cell_type": "code",
   "execution_count": 18,
   "id": "c6d471d4-2503-4566-90da-8e2c5fba14cd",
   "metadata": {},
   "outputs": [],
   "source": [
    "pi.addItem(r2)"
   ]
  },
  {
   "cell_type": "code",
   "execution_count": null,
   "id": "245b2761-5af5-4d6d-8f4e-31ff37c14ca4",
   "metadata": {},
   "outputs": [],
   "source": []
  },
  {
   "cell_type": "code",
   "execution_count": 19,
   "id": "0b6d1c78-bbb9-473f-86b3-392d752d63aa",
   "metadata": {},
   "outputs": [
    {
     "data": {
      "text/plain": [
       "<Node GaussianFilterNode.0 @17a580790>"
      ]
     },
     "execution_count": 19,
     "metadata": {},
     "output_type": "execute_result"
    }
   ],
   "source": [
    "no = confg.main_fchart.nodes()['GaussianFilterNode.0']\n",
    "no"
   ]
  },
  {
   "cell_type": "code",
   "execution_count": 20,
   "id": "66845d08-783d-4990-8a06-81d9b0df263b",
   "metadata": {},
   "outputs": [],
   "source": [
    "da = no.outputValues()['dataOut']"
   ]
  },
  {
   "cell_type": "code",
   "execution_count": 21,
   "id": "768c7f83-15fd-4123-a184-6fb497bb6eae",
   "metadata": {},
   "outputs": [
    {
     "data": {
      "text/plain": [
       "<matplotlib.collections.QuadMesh at 0x2a5b20370>"
      ]
     },
     "execution_count": 21,
     "metadata": {},
     "output_type": "execute_result"
    },
    {
     "data": {
      "image/png": "[encoded data removed]",
      "text/plain": [
       "<Figure size 432x288 with 2 Axes>"
      ]
     },
     "metadata": {
      "needs_background": "light"
     },
     "output_type": "display_data"
    }
   ],
   "source": [
    "da.plot(x='secs')"
   ]
  },
  {
   "cell_type": "code",
   "execution_count": 34,
   "id": "a33332f6-10e4-4ab1-88e3-c5bdb5b5f071",
   "metadata": {},
   "outputs": [],
   "source": [
    "from useful_scit.imps2.defs import *"
   ]
  },
  {
   "cell_type": "code",
   "execution_count": 35,
   "id": "89649e4d-5697-46c0-acff-95ec4683dda0",
   "metadata": {},
   "outputs": [],
   "source": [
    "no1 = confg.main_fchart.nodes()['QNormFilterNode.0']"
   ]
  },
  {
   "cell_type": "code",
   "execution_count": 36,
   "id": "eb59d63c-343d-410d-a77b-e1b913ab84f7",
   "metadata": {},
   "outputs": [],
   "source": [
    "d1 = no1.outputValues()['dataOut']"
   ]
  },
  {
   "cell_type": "code",
   "execution_count": 38,
   "id": "2c36470e-fbcb-462c-86bb-af07bbd9cb22",
   "metadata": {},
   "outputs": [
    {
     "data": {
      "text/plain": [
       "<matplotlib.collections.QuadMesh at 0x2bc69c970>"
      ]
     },
     "execution_count": 38,
     "metadata": {},
     "output_type": "execute_result"
    },
    {
     "data": {
      "image/png": "[encoded data removed]",
      "text/plain": [
       "<Figure size 432x288 with 2 Axes>"
      ]
     },
     "metadata": {
      "needs_background": "light"
     },
     "output_type": "display_data"
    },
    {
     "name": "stderr",
     "output_type": "stream",
     "text": [
      "2021-10-04 07:57:50,435 bnn          DEBUG    {'main': ('vertical', [('dock', 'BananaPlotNodeRegion.0', {}), ('horizontal', [('vertical', [('dock', 'mnk-tool', {}), ('dock', 'flow-chart', {})], {'sizes': [154, 496]}), ('vertical', [('tab', [('dock', 'dummy', {}), ('dock', 'BananaPlotNodeCut.0', {}), ('dock', 'console', {})], {'index': 1}), ('dock', 'BananaPlotNodeCut.1', {})], {'sizes': [322, 328]})], {'sizes': [488, 1181]})], {'sizes': [329, 657]}), 'float': []}\n",
      "Traceback (most recent call last):\n",
      "  File \"/Users/aliaga/py-packs/banana-inspector-parent/banana-inspector/banana_inspector/monkey_tool.py\", line 72, in save_project\n",
      "    sfc = save_flow_chart()\n",
      "  File \"/Users/aliaga/py-packs/banana-inspector-parent/banana-inspector/banana_inspector/monkey_tool.py\", line 62, in save_flow_chart\n",
      "    s = fc.saveState()\n",
      "  File \"/Users/aliaga/py-packs/pyqtgraph/pyqtgraph/flowchart/Flowchart.py\", line 441, in saveState\n",
      "    state = Node.saveState(self)\n",
      "  File \"/Users/aliaga/py-packs/pyqtgraph/pyqtgraph/flowchart/Node.py\", line 380, in saveState\n",
      "    pos = self.graphicsItem().pos()\n",
      "  File \"/Users/aliaga/py-packs/pyqtgraph/pyqtgraph/graphicsItems/GraphicsItem.py\", line 404, in pos\n",
      "    return Point(self._qtBaseClass.pos(self))\n",
      "RuntimeError: wrapped C/C++ object of type NodeGraphicsItem has been deleted\n"
     ]
    },
    {
     "name": "stdout",
     "output_type": "stream",
     "text": [
      "change ggg \n",
      "change ggg \n",
      "change ggg \n"
     ]
    },
    {
     "name": "stderr",
     "output_type": "stream",
     "text": [
      "2021-10-04 08:00:16,329 bnn          DEBUG    {'main': ('vertical', [('dock', 'BananaPlotNodeRegion.0', {}), ('horizontal', [('vertical', [('dock', 'mnk-tool', {}), ('dock', 'flow-chart', {})], {'sizes': [154, 496]}), ('vertical', [('tab', [('dock', 'dummy', {}), ('dock', 'BananaPlotNodeCut.0', {}), ('dock', 'console', {})], {'index': 1}), ('dock', 'BananaPlotNodeCut.1', {})], {'sizes': [322, 328]})], {'sizes': [488, 1181]})], {'sizes': [329, 657]}), 'float': []}\n",
      "Traceback (most recent call last):\n",
      "  File \"/Users/aliaga/py-packs/banana-inspector-parent/banana-inspector/banana_inspector/monkey_tool.py\", line 72, in save_project\n",
      "    sfc = save_flow_chart()\n",
      "  File \"/Users/aliaga/py-packs/banana-inspector-parent/banana-inspector/banana_inspector/monkey_tool.py\", line 62, in save_flow_chart\n",
      "    s = fc.saveState()\n",
      "  File \"/Users/aliaga/py-packs/pyqtgraph/pyqtgraph/flowchart/Flowchart.py\", line 441, in saveState\n",
      "    state = Node.saveState(self)\n",
      "  File \"/Users/aliaga/py-packs/pyqtgraph/pyqtgraph/flowchart/Node.py\", line 380, in saveState\n",
      "    pos = self.graphicsItem().pos()\n",
      "  File \"/Users/aliaga/py-packs/pyqtgraph/pyqtgraph/graphicsItems/GraphicsItem.py\", line 404, in pos\n",
      "    return Point(self._qtBaseClass.pos(self))\n",
      "RuntimeError: wrapped C/C++ object of type NodeGraphicsItem has been deleted\n",
      "2021-10-04 08:03:47,497 bnn          DEBUG    {'main': ('vertical', [('dock', 'BananaPlotNodeRegion.0', {}), ('horizontal', [('vertical', [('dock', 'mnk-tool', {}), ('dock', 'flow-chart', {})], {'sizes': [154, 496]}), ('vertical', [('tab', [('dock', 'dummy', {}), ('dock', 'BananaPlotNodeCut.0', {}), ('dock', 'console', {})], {'index': 1}), ('dock', 'BananaPlotNodeCut.1', {})], {'sizes': [322, 328]})], {'sizes': [488, 1181]})], {'sizes': [329, 657]}), 'float': []}\n",
      "Traceback (most recent call last):\n",
      "  File \"/Users/aliaga/py-packs/banana-inspector-parent/banana-inspector/banana_inspector/monkey_tool.py\", line 72, in save_project\n",
      "    sfc = save_flow_chart()\n",
      "  File \"/Users/aliaga/py-packs/banana-inspector-parent/banana-inspector/banana_inspector/monkey_tool.py\", line 62, in save_flow_chart\n",
      "    s = fc.saveState()\n",
      "  File \"/Users/aliaga/py-packs/pyqtgraph/pyqtgraph/flowchart/Flowchart.py\", line 441, in saveState\n",
      "    state = Node.saveState(self)\n",
      "  File \"/Users/aliaga/py-packs/pyqtgraph/pyqtgraph/flowchart/Node.py\", line 380, in saveState\n",
      "    pos = self.graphicsItem().pos()\n",
      "  File \"/Users/aliaga/py-packs/pyqtgraph/pyqtgraph/graphicsItems/GraphicsItem.py\", line 404, in pos\n",
      "    return Point(self._qtBaseClass.pos(self))\n",
      "RuntimeError: wrapped C/C++ object of type NodeGraphicsItem has been deleted\n"
     ]
    }
   ],
   "source": [
    "(10**d1).plot(norm=mpl.colors.LogNorm(vmin=1,vmax=100))"
   ]
  },
  {
   "cell_type": "code",
   "execution_count": null,
   "id": "8d559464-3889-4167-bfbe-54fee1eb41be",
   "metadata": {},
   "outputs": [],
   "source": []
  }
 ],
 "metadata": {
  "kernelspec": {
   "display_name": "Python [conda env:q5]",
   "language": "python",
   "name": "conda-env-q5-py"
  },
  "language_info": {
   "codemirror_mode": {
    "name": "ipython",
    "version": 3
   },
   "file_extension": ".py",
   "mimetype": "text/x-python",
   "name": "python",
   "nbconvert_exporter": "python",
   "pygments_lexer": "ipython3",
   "version": "3.9.7"
  }
 },
 "nbformat": 4,
 "nbformat_minor": 5
}
